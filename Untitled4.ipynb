{
  "nbformat": 4,
  "nbformat_minor": 0,
  "metadata": {
    "colab": {
      "name": "Untitled4.ipynb",
      "provenance": [],
      "collapsed_sections": [],
      "authorship_tag": "ABX9TyM3LyLcvCcwZlI9uhauyHeb",
      "include_colab_link": true
    },
    "kernelspec": {
      "name": "python3",
      "display_name": "Python 3"
    },
    "language_info": {
      "name": "python"
    }
  },
  "cells": [
    {
      "cell_type": "markdown",
      "metadata": {
        "id": "view-in-github",
        "colab_type": "text"
      },
      "source": [
        "<a href=\"https://colab.research.google.com/github/han-cy/Learning_python/blob/main/Untitled4.ipynb\" target=\"_parent\"><img src=\"https://colab.research.google.com/assets/colab-badge.svg\" alt=\"Open In Colab\"/></a>"
      ]
    },
    {
      "cell_type": "code",
      "metadata": {
        "id": "CfmWWypsxVLS"
      },
      "source": [
        "users=[]"
      ],
      "execution_count": null,
      "outputs": []
    },
    {
      "cell_type": "code",
      "metadata": {
        "id": "AT5hmTZKxWeY"
      },
      "source": [
        "users.append('Hancy Kumar Shah')"
      ],
      "execution_count": null,
      "outputs": []
    },
    {
      "cell_type": "code",
      "metadata": {
        "id": "KQPsnnZ9xaxB"
      },
      "source": [
        "for number in range(1001):\n",
        "  print(number)"
      ],
      "execution_count": null,
      "outputs": []
    },
    {
      "cell_type": "code",
      "metadata": {
        "id": "NXs9N1tcsSMJ"
      },
      "source": [
        "numbers = list(range(1,1001))"
      ],
      "execution_count": null,
      "outputs": []
    },
    {
      "cell_type": "code",
      "metadata": {
        "colab": {
          "base_uri": "https://localhost:8080/"
        },
        "id": "Uex5u2jftoaS",
        "outputId": "00c0e7f2-f60b-4f64-86b5-01deb1f520f7"
      },
      "source": [
        "print(numbers)"
      ],
      "execution_count": null,
      "outputs": [
        {
          "output_type": "stream",
          "text": [
            "[1, 2, 3, 4, 5, 6, 7, 8, 9, 10, 11, 12, 13, 14, 15, 16, 17, 18, 19, 20, 21, 22, 23, 24, 25, 26, 27, 28, 29, 30, 31, 32, 33, 34, 35, 36, 37, 38, 39, 40, 41, 42, 43, 44, 45, 46, 47, 48, 49, 50, 51, 52, 53, 54, 55, 56, 57, 58, 59, 60, 61, 62, 63, 64, 65, 66, 67, 68, 69, 70, 71, 72, 73, 74, 75, 76, 77, 78, 79, 80, 81, 82, 83, 84, 85, 86, 87, 88, 89, 90, 91, 92, 93, 94, 95, 96, 97, 98, 99, 100, 101, 102, 103, 104, 105, 106, 107, 108, 109, 110, 111, 112, 113, 114, 115, 116, 117, 118, 119, 120, 121, 122, 123, 124, 125, 126, 127, 128, 129, 130, 131, 132, 133, 134, 135, 136, 137, 138, 139, 140, 141, 142, 143, 144, 145, 146, 147, 148, 149, 150, 151, 152, 153, 154, 155, 156, 157, 158, 159, 160, 161, 162, 163, 164, 165, 166, 167, 168, 169, 170, 171, 172, 173, 174, 175, 176, 177, 178, 179, 180, 181, 182, 183, 184, 185, 186, 187, 188, 189, 190, 191, 192, 193, 194, 195, 196, 197, 198, 199, 200, 201, 202, 203, 204, 205, 206, 207, 208, 209, 210, 211, 212, 213, 214, 215, 216, 217, 218, 219, 220, 221, 222, 223, 224, 225, 226, 227, 228, 229, 230, 231, 232, 233, 234, 235, 236, 237, 238, 239, 240, 241, 242, 243, 244, 245, 246, 247, 248, 249, 250, 251, 252, 253, 254, 255, 256, 257, 258, 259, 260, 261, 262, 263, 264, 265, 266, 267, 268, 269, 270, 271, 272, 273, 274, 275, 276, 277, 278, 279, 280, 281, 282, 283, 284, 285, 286, 287, 288, 289, 290, 291, 292, 293, 294, 295, 296, 297, 298, 299, 300, 301, 302, 303, 304, 305, 306, 307, 308, 309, 310, 311, 312, 313, 314, 315, 316, 317, 318, 319, 320, 321, 322, 323, 324, 325, 326, 327, 328, 329, 330, 331, 332, 333, 334, 335, 336, 337, 338, 339, 340, 341, 342, 343, 344, 345, 346, 347, 348, 349, 350, 351, 352, 353, 354, 355, 356, 357, 358, 359, 360, 361, 362, 363, 364, 365, 366, 367, 368, 369, 370, 371, 372, 373, 374, 375, 376, 377, 378, 379, 380, 381, 382, 383, 384, 385, 386, 387, 388, 389, 390, 391, 392, 393, 394, 395, 396, 397, 398, 399, 400, 401, 402, 403, 404, 405, 406, 407, 408, 409, 410, 411, 412, 413, 414, 415, 416, 417, 418, 419, 420, 421, 422, 423, 424, 425, 426, 427, 428, 429, 430, 431, 432, 433, 434, 435, 436, 437, 438, 439, 440, 441, 442, 443, 444, 445, 446, 447, 448, 449, 450, 451, 452, 453, 454, 455, 456, 457, 458, 459, 460, 461, 462, 463, 464, 465, 466, 467, 468, 469, 470, 471, 472, 473, 474, 475, 476, 477, 478, 479, 480, 481, 482, 483, 484, 485, 486, 487, 488, 489, 490, 491, 492, 493, 494, 495, 496, 497, 498, 499, 500, 501, 502, 503, 504, 505, 506, 507, 508, 509, 510, 511, 512, 513, 514, 515, 516, 517, 518, 519, 520, 521, 522, 523, 524, 525, 526, 527, 528, 529, 530, 531, 532, 533, 534, 535, 536, 537, 538, 539, 540, 541, 542, 543, 544, 545, 546, 547, 548, 549, 550, 551, 552, 553, 554, 555, 556, 557, 558, 559, 560, 561, 562, 563, 564, 565, 566, 567, 568, 569, 570, 571, 572, 573, 574, 575, 576, 577, 578, 579, 580, 581, 582, 583, 584, 585, 586, 587, 588, 589, 590, 591, 592, 593, 594, 595, 596, 597, 598, 599, 600, 601, 602, 603, 604, 605, 606, 607, 608, 609, 610, 611, 612, 613, 614, 615, 616, 617, 618, 619, 620, 621, 622, 623, 624, 625, 626, 627, 628, 629, 630, 631, 632, 633, 634, 635, 636, 637, 638, 639, 640, 641, 642, 643, 644, 645, 646, 647, 648, 649, 650, 651, 652, 653, 654, 655, 656, 657, 658, 659, 660, 661, 662, 663, 664, 665, 666, 667, 668, 669, 670, 671, 672, 673, 674, 675, 676, 677, 678, 679, 680, 681, 682, 683, 684, 685, 686, 687, 688, 689, 690, 691, 692, 693, 694, 695, 696, 697, 698, 699, 700, 701, 702, 703, 704, 705, 706, 707, 708, 709, 710, 711, 712, 713, 714, 715, 716, 717, 718, 719, 720, 721, 722, 723, 724, 725, 726, 727, 728, 729, 730, 731, 732, 733, 734, 735, 736, 737, 738, 739, 740, 741, 742, 743, 744, 745, 746, 747, 748, 749, 750, 751, 752, 753, 754, 755, 756, 757, 758, 759, 760, 761, 762, 763, 764, 765, 766, 767, 768, 769, 770, 771, 772, 773, 774, 775, 776, 777, 778, 779, 780, 781, 782, 783, 784, 785, 786, 787, 788, 789, 790, 791, 792, 793, 794, 795, 796, 797, 798, 799, 800, 801, 802, 803, 804, 805, 806, 807, 808, 809, 810, 811, 812, 813, 814, 815, 816, 817, 818, 819, 820, 821, 822, 823, 824, 825, 826, 827, 828, 829, 830, 831, 832, 833, 834, 835, 836, 837, 838, 839, 840, 841, 842, 843, 844, 845, 846, 847, 848, 849, 850, 851, 852, 853, 854, 855, 856, 857, 858, 859, 860, 861, 862, 863, 864, 865, 866, 867, 868, 869, 870, 871, 872, 873, 874, 875, 876, 877, 878, 879, 880, 881, 882, 883, 884, 885, 886, 887, 888, 889, 890, 891, 892, 893, 894, 895, 896, 897, 898, 899, 900, 901, 902, 903, 904, 905, 906, 907, 908, 909, 910, 911, 912, 913, 914, 915, 916, 917, 918, 919, 920, 921, 922, 923, 924, 925, 926, 927, 928, 929, 930, 931, 932, 933, 934, 935, 936, 937, 938, 939, 940, 941, 942, 943, 944, 945, 946, 947, 948, 949, 950, 951, 952, 953, 954, 955, 956, 957, 958, 959, 960, 961, 962, 963, 964, 965, 966, 967, 968, 969, 970, 971, 972, 973, 974, 975, 976, 977, 978, 979, 980, 981, 982, 983, 984, 985, 986, 987, 988, 989, 990, 991, 992, 993, 994, 995, 996, 997, 998, 999, 1000]\n"
          ],
          "name": "stdout"
        }
      ]
    },
    {
      "cell_type": "code",
      "metadata": {
        "id": "ljOwqUVZtqIR"
      },
      "source": [
        "numbers.remove(99)"
      ],
      "execution_count": null,
      "outputs": []
    },
    {
      "cell_type": "code",
      "metadata": {
        "colab": {
          "base_uri": "https://localhost:8080/"
        },
        "id": "MUbhajPZuHFh",
        "outputId": "3cac1c9e-4bd2-4581-d13b-120fa3a90c68"
      },
      "source": [
        "print(numbers)"
      ],
      "execution_count": null,
      "outputs": [
        {
          "output_type": "stream",
          "text": [
            "[1, 2, 3, 4, 5, 6, 7, 8, 9, 10, 11, 12, 13, 14, 15, 16, 17, 18, 19, 20, 21, 22, 23, 24, 25, 26, 27, 28, 29, 30, 31, 32, 33, 34, 35, 36, 37, 38, 39, 40, 41, 42, 43, 44, 45, 46, 47, 48, 49, 50, 51, 52, 53, 54, 55, 56, 57, 58, 59, 60, 61, 62, 63, 64, 65, 66, 67, 68, 69, 70, 71, 72, 73, 74, 75, 76, 77, 78, 79, 80, 81, 82, 83, 84, 85, 86, 87, 88, 89, 90, 91, 92, 93, 94, 95, 96, 97, 98, 100, 101, 102, 103, 104, 105, 106, 107, 108, 109, 110, 111, 112, 113, 114, 115, 116, 117, 118, 119, 120, 121, 122, 123, 124, 125, 126, 127, 128, 129, 130, 131, 132, 133, 134, 135, 136, 137, 138, 139, 140, 141, 142, 143, 144, 145, 146, 147, 148, 149, 150, 151, 152, 153, 154, 155, 156, 157, 158, 159, 160, 161, 162, 163, 164, 165, 166, 167, 168, 169, 170, 171, 172, 173, 174, 175, 176, 177, 178, 179, 180, 181, 182, 183, 184, 185, 186, 187, 188, 189, 190, 191, 192, 193, 194, 195, 196, 197, 198, 199, 200, 201, 202, 203, 204, 205, 206, 207, 208, 209, 210, 211, 212, 213, 214, 215, 216, 217, 218, 219, 220, 221, 222, 223, 224, 225, 226, 227, 228, 229, 230, 231, 232, 233, 234, 235, 236, 237, 238, 239, 240, 241, 242, 243, 244, 245, 246, 247, 248, 249, 250, 251, 252, 253, 254, 255, 256, 257, 258, 259, 260, 261, 262, 263, 264, 265, 266, 267, 268, 269, 270, 271, 272, 273, 274, 275, 276, 277, 278, 279, 280, 281, 282, 283, 284, 285, 286, 287, 288, 289, 290, 291, 292, 293, 294, 295, 296, 297, 298, 299, 300, 301, 302, 303, 304, 305, 306, 307, 308, 309, 310, 311, 312, 313, 314, 315, 316, 317, 318, 319, 320, 321, 322, 323, 324, 325, 326, 327, 328, 329, 330, 331, 332, 333, 334, 335, 336, 337, 338, 339, 340, 341, 342, 343, 344, 345, 346, 347, 348, 349, 350, 351, 352, 353, 354, 355, 356, 357, 358, 359, 360, 361, 362, 363, 364, 365, 366, 367, 368, 369, 370, 371, 372, 373, 374, 375, 376, 377, 378, 379, 380, 381, 382, 383, 384, 385, 386, 387, 388, 389, 390, 391, 392, 393, 394, 395, 396, 397, 398, 399, 400, 401, 402, 403, 404, 405, 406, 407, 408, 409, 410, 411, 412, 413, 414, 415, 416, 417, 418, 419, 420, 421, 422, 423, 424, 425, 426, 427, 428, 429, 430, 431, 432, 433, 434, 435, 436, 437, 438, 439, 440, 441, 442, 443, 444, 445, 446, 447, 448, 449, 450, 451, 452, 453, 454, 455, 456, 457, 458, 459, 460, 461, 462, 463, 464, 465, 466, 467, 468, 469, 470, 471, 472, 473, 474, 475, 476, 477, 478, 479, 480, 481, 482, 483, 484, 485, 486, 487, 488, 489, 490, 491, 492, 493, 494, 495, 496, 497, 498, 499, 500, 501, 502, 503, 504, 505, 506, 507, 508, 509, 510, 511, 512, 513, 514, 515, 516, 517, 518, 519, 520, 521, 522, 523, 524, 525, 526, 527, 528, 529, 530, 531, 532, 533, 534, 535, 536, 537, 538, 539, 540, 541, 542, 543, 544, 545, 546, 547, 548, 549, 550, 551, 552, 553, 554, 555, 556, 557, 558, 559, 560, 561, 562, 563, 564, 565, 566, 567, 568, 569, 570, 571, 572, 573, 574, 575, 576, 577, 578, 579, 580, 581, 582, 583, 584, 585, 586, 587, 588, 589, 590, 591, 592, 593, 594, 595, 596, 597, 598, 599, 600, 601, 602, 603, 604, 605, 606, 607, 608, 609, 610, 611, 612, 613, 614, 615, 616, 617, 618, 619, 620, 621, 622, 623, 624, 625, 626, 627, 628, 629, 630, 631, 632, 633, 634, 635, 636, 637, 638, 639, 640, 641, 642, 643, 644, 645, 646, 647, 648, 649, 650, 651, 652, 653, 654, 655, 656, 657, 658, 659, 660, 661, 662, 663, 664, 665, 666, 667, 668, 669, 670, 671, 672, 673, 674, 675, 676, 677, 678, 679, 680, 681, 682, 683, 684, 685, 686, 687, 688, 689, 690, 691, 692, 693, 694, 695, 696, 697, 698, 699, 700, 701, 702, 703, 704, 705, 706, 707, 708, 709, 710, 711, 712, 713, 714, 715, 716, 717, 718, 719, 720, 721, 722, 723, 724, 725, 726, 727, 728, 729, 730, 731, 732, 733, 734, 735, 736, 737, 738, 739, 740, 741, 742, 743, 744, 745, 746, 747, 748, 749, 750, 751, 752, 753, 754, 755, 756, 757, 758, 759, 760, 761, 762, 763, 764, 765, 766, 767, 768, 769, 770, 771, 772, 773, 774, 775, 776, 777, 778, 779, 780, 781, 782, 783, 784, 785, 786, 787, 788, 789, 790, 791, 792, 793, 794, 795, 796, 797, 798, 799, 800, 801, 802, 803, 804, 805, 806, 807, 808, 809, 810, 811, 812, 813, 814, 815, 816, 817, 818, 819, 820, 821, 822, 823, 824, 825, 826, 827, 828, 829, 830, 831, 832, 833, 834, 835, 836, 837, 838, 839, 840, 841, 842, 843, 844, 845, 846, 847, 848, 849, 850, 851, 852, 853, 854, 855, 856, 857, 858, 859, 860, 861, 862, 863, 864, 865, 866, 867, 868, 869, 870, 871, 872, 873, 874, 875, 876, 877, 878, 879, 880, 881, 882, 883, 884, 885, 886, 887, 888, 889, 890, 891, 892, 893, 894, 895, 896, 897, 898, 899, 900, 901, 902, 903, 904, 905, 906, 907, 908, 909, 910, 911, 912, 913, 914, 915, 916, 917, 918, 919, 920, 921, 922, 923, 924, 925, 926, 927, 928, 929, 930, 931, 932, 933, 934, 935, 936, 937, 938, 939, 940, 941, 942, 943, 944, 945, 946, 947, 948, 949, 950, 951, 952, 953, 954, 955, 956, 957, 958, 959, 960, 961, 962, 963, 964, 965, 966, 967, 968, 969, 970, 971, 972, 973, 974, 975, 976, 977, 978, 979, 980, 981, 982, 983, 984, 985, 986, 987, 988, 989, 990, 991, 992, 993, 994, 995, 996, 997, 998, 999, 1000]\n"
          ],
          "name": "stdout"
        }
      ]
    },
    {
      "cell_type": "code",
      "metadata": {
        "id": "K4bS6fyqubIY"
      },
      "source": [
        "del numbers[:]"
      ],
      "execution_count": null,
      "outputs": []
    },
    {
      "cell_type": "code",
      "metadata": {
        "colab": {
          "base_uri": "https://localhost:8080/"
        },
        "id": "3ulQb-sTufMY",
        "outputId": "44695b2b-990d-4633-a894-91b6c742a633"
      },
      "source": [
        "numbers"
      ],
      "execution_count": null,
      "outputs": [
        {
          "output_type": "execute_result",
          "data": {
            "text/plain": [
              "[]"
            ]
          },
          "metadata": {
            "tags": []
          },
          "execution_count": 17
        }
      ]
    },
    {
      "cell_type": "code",
      "metadata": {
        "id": "HNme-ApfuluR"
      },
      "source": [
        "dogs=[]"
      ],
      "execution_count": null,
      "outputs": []
    },
    {
      "cell_type": "code",
      "metadata": {
        "colab": {
          "base_uri": "https://localhost:8080/"
        },
        "id": "GTthLB6cfJNP",
        "outputId": "2ddef5d4-f7cf-40b1-fc87-a8e97b06e453"
      },
      "source": [
        "for dog in dogs:\n",
        "  print(\"Hello \"+dog+\" !\")\n",
        "print(\"I love these dogs!\")\n",
        "print(\"\\n These were my first two dogs:\")\n",
        "old_dogs=dogs[:2]\n",
        "for old_dog in old_dogs:\n",
        "  print(old_dogs)\n",
        "del dogs[0]\n",
        "dogs.remove('peso')\n",
        "print(dogs)"
      ],
      "execution_count": null,
      "outputs": [
        {
          "output_type": "stream",
          "text": [
            "Hello goblin !\n",
            "Hello Willie !\n",
            "Hello hootz !\n",
            "Hello goblin !\n",
            "Hello Willie !\n",
            "Hello hootz !\n",
            "Hello peso !\n",
            "Hello goblin !\n",
            "Hello Willie !\n",
            "Hello hootz !\n",
            "Hello peso !\n",
            "Hello goblin !\n",
            "I love these dogs!\n",
            "\n",
            " These were my first two dogs:\n",
            "['goblin', 'Willie']\n",
            "['goblin', 'Willie']\n",
            "['Willie', 'hootz', 'goblin', 'Willie', 'hootz', 'goblin', 'Willie', 'hootz', 'peso', 'goblin']\n"
          ],
          "name": "stdout"
        }
      ]
    },
    {
      "cell_type": "code",
      "metadata": {
        "id": "i1_TM50tfU88"
      },
      "source": [
        "del dogs[3:]"
      ],
      "execution_count": null,
      "outputs": []
    },
    {
      "cell_type": "code",
      "metadata": {
        "id": "wbph1V5_gREl",
        "colab": {
          "base_uri": "https://localhost:8080/",
          "height": 361
        },
        "outputId": "6785a4a7-f74b-44ff-c321-4f2122edba11"
      },
      "source": [
        "for dog in dogs:\n",
        "  print(\"Hello \"+dog+\" !\")\n",
        "print(\"I love these dogs!\")\n",
        "print(\"\\n These were my first two dogs:\")\n",
        "old_dogs=dogs[:2]\n",
        "for old_dog in old_dogs:\n",
        "  print(old_dogs)\n",
        "del dogs[0]\n",
        "dogs.remove('peso')\n",
        "print(dogs)"
      ],
      "execution_count": null,
      "outputs": [
        {
          "output_type": "stream",
          "text": [
            "Hello Willie !\n",
            "Hello hootz !\n",
            "Hello goblin !\n",
            "I love these dogs!\n",
            "\n",
            " These were my first two dogs:\n",
            "['Willie', 'hootz']\n",
            "['Willie', 'hootz']\n"
          ],
          "name": "stdout"
        },
        {
          "output_type": "error",
          "ename": "ValueError",
          "evalue": "ignored",
          "traceback": [
            "\u001b[0;31m---------------------------------------------------------------------------\u001b[0m",
            "\u001b[0;31mValueError\u001b[0m                                Traceback (most recent call last)",
            "\u001b[0;32m<ipython-input-11-c88451e7dae0>\u001b[0m in \u001b[0;36m<module>\u001b[0;34m()\u001b[0m\n\u001b[1;32m      7\u001b[0m   \u001b[0mprint\u001b[0m\u001b[0;34m(\u001b[0m\u001b[0mold_dogs\u001b[0m\u001b[0;34m)\u001b[0m\u001b[0;34m\u001b[0m\u001b[0;34m\u001b[0m\u001b[0m\n\u001b[1;32m      8\u001b[0m \u001b[0;32mdel\u001b[0m \u001b[0mdogs\u001b[0m\u001b[0;34m[\u001b[0m\u001b[0;36m0\u001b[0m\u001b[0;34m]\u001b[0m\u001b[0;34m\u001b[0m\u001b[0;34m\u001b[0m\u001b[0m\n\u001b[0;32m----> 9\u001b[0;31m \u001b[0mdogs\u001b[0m\u001b[0;34m.\u001b[0m\u001b[0mremove\u001b[0m\u001b[0;34m(\u001b[0m\u001b[0;34m'peso'\u001b[0m\u001b[0;34m)\u001b[0m\u001b[0;34m\u001b[0m\u001b[0;34m\u001b[0m\u001b[0m\n\u001b[0m\u001b[1;32m     10\u001b[0m \u001b[0mprint\u001b[0m\u001b[0;34m(\u001b[0m\u001b[0mdogs\u001b[0m\u001b[0;34m)\u001b[0m\u001b[0;34m\u001b[0m\u001b[0;34m\u001b[0m\u001b[0m\n",
            "\u001b[0;31mValueError\u001b[0m: list.remove(x): x not in list"
          ]
        }
      ]
    },
    {
      "cell_type": "code",
      "metadata": {
        "id": "UBG6RFONgUMK",
        "colab": {
          "base_uri": "https://localhost:8080/"
        },
        "outputId": "84ab5a1a-e6c6-4dc8-8836-6890e4a0d74f"
      },
      "source": [
        "alien_0={'color':'green','points':10}\n",
        "alien_color = alien_0.get('color')\n",
        "alien_points = alien_0.get('points',1)\n",
        "print(alien_color)\n",
        "print(alien_points)"
      ],
      "execution_count": null,
      "outputs": [
        {
          "output_type": "stream",
          "text": [
            "green\n",
            "10\n"
          ],
          "name": "stdout"
        }
      ]
    },
    {
      "cell_type": "code",
      "metadata": {
        "colab": {
          "base_uri": "https://localhost:8080/"
        },
        "id": "ISdXwQrVrpB6",
        "outputId": "4f67dd6f-5b15-4a76-c575-33954b4c9128"
      },
      "source": [
        "alien_0={'color':'green'}\n",
        "alien_color = alien_0.get('color')\n",
        "alien_points = alien_0.get('points',0)\n",
        "print(alien_color)\n",
        "print(alien_points)"
      ],
      "execution_count": null,
      "outputs": [
        {
          "output_type": "stream",
          "text": [
            "green\n",
            "0\n"
          ],
          "name": "stdout"
        }
      ]
    },
    {
      "cell_type": "code",
      "metadata": {
        "colab": {
          "base_uri": "https://localhost:8080/"
        },
        "id": "Oj2crGe8r5J_",
        "outputId": "59db92f5-5587-45e3-8016-b340052aa2ed"
      },
      "source": [
        "print(alien_0)"
      ],
      "execution_count": null,
      "outputs": [
        {
          "output_type": "stream",
          "text": [
            "{'color': 'green'}\n"
          ],
          "name": "stdout"
        }
      ]
    },
    {
      "cell_type": "code",
      "metadata": {
        "id": "eQ_UC88Zr8Lv"
      },
      "source": [
        "alien_0 = {'color':'green','points':5}"
      ],
      "execution_count": null,
      "outputs": []
    },
    {
      "cell_type": "code",
      "metadata": {
        "colab": {
          "base_uri": "https://localhost:8080/"
        },
        "id": "qzUqgvRWk013",
        "outputId": "146d0413-3353-4a5d-e8c2-174fca64b13a"
      },
      "source": [
        "print(alien_0)"
      ],
      "execution_count": null,
      "outputs": [
        {
          "output_type": "stream",
          "text": [
            "{'color': 'green'}\n"
          ],
          "name": "stdout"
        }
      ]
    },
    {
      "cell_type": "code",
      "metadata": {
        "id": "dEZvK4folB1-"
      },
      "source": [
        "alien_0 = {'color':'green','points':5}"
      ],
      "execution_count": null,
      "outputs": []
    },
    {
      "cell_type": "code",
      "metadata": {
        "colab": {
          "base_uri": "https://localhost:8080/"
        },
        "id": "zrnwv6talKlu",
        "outputId": "3db4ced1-ba41-49ce-a982-81c4ac6d4a13"
      },
      "source": [
        "print(alien_0)"
      ],
      "execution_count": null,
      "outputs": [
        {
          "output_type": "stream",
          "text": [
            "{'color': 'green', 'points': 5}\n"
          ],
          "name": "stdout"
        }
      ]
    },
    {
      "cell_type": "code",
      "metadata": {
        "id": "ZAqFE6lclNGN"
      },
      "source": [
        "del alien_0['points']"
      ],
      "execution_count": null,
      "outputs": []
    },
    {
      "cell_type": "code",
      "metadata": {
        "id": "gSyvuVFKlRZ9",
        "colab": {
          "base_uri": "https://localhost:8080/"
        },
        "outputId": "385366e4-dfd2-4be4-965a-487625cab9cc"
      },
      "source": [
        "print(alien_0)"
      ],
      "execution_count": null,
      "outputs": [
        {
          "output_type": "stream",
          "text": [
            "{'color': 'green'}\n"
          ],
          "name": "stdout"
        }
      ]
    },
    {
      "cell_type": "code",
      "metadata": {
        "id": "B2ZVsglwlTaV"
      },
      "source": [
        "fav_language = {\n",
        "    'hancy':'python',\n",
        "    'vivek':'c',\n",
        "    'vicky':'c++',\n",
        "    'sam':'ruby',\n",
        "}"
      ],
      "execution_count": null,
      "outputs": []
    },
    {
      "cell_type": "code",
      "metadata": {
        "colab": {
          "base_uri": "https://localhost:8080/"
        },
        "id": "1AxMtszy5Ata",
        "outputId": "5078acb4-06b7-4b79-9dcd-81caeaab8f44"
      },
      "source": [
        "for name, language in fav_language.items():\n",
        "  print(name+\":\"+language)"
      ],
      "execution_count": null,
      "outputs": [
        {
          "output_type": "stream",
          "text": [
            "hancy:python\n",
            "vivek:c\n",
            "vicky:c++\n",
            "sam:ruby\n"
          ],
          "name": "stdout"
        }
      ]
    },
    {
      "cell_type": "code",
      "metadata": {
        "colab": {
          "base_uri": "https://localhost:8080/"
        },
        "id": "pYLXjcHz5kvT",
        "outputId": "1e84553c-87c4-4734-b9ee-030ef82a2bbf"
      },
      "source": [
        "for name in fav_language.keys():\n",
        "  print(name)"
      ],
      "execution_count": null,
      "outputs": [
        {
          "output_type": "stream",
          "text": [
            "hancy\n",
            "vivek\n",
            "vicky\n",
            "sam\n"
          ],
          "name": "stdout"
        }
      ]
    },
    {
      "cell_type": "code",
      "metadata": {
        "colab": {
          "base_uri": "https://localhost:8080/"
        },
        "id": "5gNbJLJyByZ-",
        "outputId": "204d6c95-aefd-45bb-f643-f9a7e4a37283"
      },
      "source": [
        "for language in fav_language.values():\n",
        "  print(language)"
      ],
      "execution_count": null,
      "outputs": [
        {
          "output_type": "stream",
          "text": [
            "python\n",
            "c\n",
            "c++\n",
            "ruby\n"
          ],
          "name": "stdout"
        }
      ]
    },
    {
      "cell_type": "code",
      "metadata": {
        "colab": {
          "base_uri": "https://localhost:8080/"
        },
        "id": "2mvfC1tgH8c2",
        "outputId": "6d181ecc-aef6-4214-e70e-97218413b64e"
      },
      "source": [
        "for name, language in sorted(fav_language.items()):\n",
        "  print(name+\":\"+language)"
      ],
      "execution_count": null,
      "outputs": [
        {
          "output_type": "stream",
          "text": [
            "hancy:python\n",
            "sam:ruby\n",
            "vicky:c++\n",
            "vivek:c\n"
          ],
          "name": "stdout"
        }
      ]
    },
    {
      "cell_type": "code",
      "metadata": {
        "colab": {
          "base_uri": "https://localhost:8080/"
        },
        "id": "R5RwUbgOId4M",
        "outputId": "889adf54-05f7-4b3f-dbc6-4b563c819f7c"
      },
      "source": [
        "for name in sorted(fav_language.keys()):\n",
        "  print(name)"
      ],
      "execution_count": null,
      "outputs": [
        {
          "output_type": "stream",
          "text": [
            "hancy\n",
            "sam\n",
            "vicky\n",
            "vivek\n"
          ],
          "name": "stdout"
        }
      ]
    },
    {
      "cell_type": "code",
      "metadata": {
        "id": "VKTgdXOLI7oM"
      },
      "source": [
        "num_responses = len(fav_language)"
      ],
      "execution_count": null,
      "outputs": []
    },
    {
      "cell_type": "code",
      "metadata": {
        "colab": {
          "base_uri": "https://localhost:8080/"
        },
        "id": "iNxxTvuxQqg3",
        "outputId": "1362ea66-483a-455d-b295-7f67f034804e"
      },
      "source": [
        "print(num_responses)"
      ],
      "execution_count": null,
      "outputs": [
        {
          "output_type": "stream",
          "text": [
            "4\n"
          ],
          "name": "stdout"
        }
      ]
    },
    {
      "cell_type": "code",
      "metadata": {
        "id": "zCDVR2RNQsg8"
      },
      "source": [
        "user = []"
      ],
      "execution_count": null,
      "outputs": []
    },
    {
      "cell_type": "code",
      "metadata": {
        "id": "iyzmFkvXY6Ox"
      },
      "source": [
        "new_user = {\n",
        "    'last':'fermi',\n",
        "    'first':'enrico',\n",
        "    'username':'eferni',\n",
        "}"
      ],
      "execution_count": null,
      "outputs": []
    },
    {
      "cell_type": "code",
      "metadata": {
        "id": "tq30GUFtZRRP"
      },
      "source": [
        "user.append(new_user)"
      ],
      "execution_count": null,
      "outputs": []
    },
    {
      "cell_type": "code",
      "metadata": {
        "id": "joxZZrKTZUB-"
      },
      "source": [
        "new_user = {\n",
        "    'last': 'curie',\n",
        "    'first': 'marie',\n",
        "    'username': 'mcurie',\n",
        "}"
      ],
      "execution_count": null,
      "outputs": []
    },
    {
      "cell_type": "code",
      "metadata": {
        "id": "Wn2-jelva_W1"
      },
      "source": [
        "user.append(new_user)"
      ],
      "execution_count": null,
      "outputs": []
    },
    {
      "cell_type": "code",
      "metadata": {
        "colab": {
          "base_uri": "https://localhost:8080/"
        },
        "id": "JhkCp0MObBO0",
        "outputId": "c4ae876d-fba6-460b-dbd7-e503feb02781"
      },
      "source": [
        "for user_dict in user:\n",
        "  for k,v in user_dict.items():\n",
        "    print(k+\":\"+v)\n",
        "print(\"\\n\")"
      ],
      "execution_count": null,
      "outputs": [
        {
          "output_type": "stream",
          "text": [
            "last:fermi\n",
            "first:enrico\n",
            "username:eferni\n",
            "last:curie\n",
            "first:marie\n",
            "username:mcurie\n",
            "\n",
            "\n"
          ],
          "name": "stdout"
        }
      ]
    },
    {
      "cell_type": "code",
      "metadata": {
        "id": "VCWvaBDvbW09"
      },
      "source": [
        "users = [\n",
        "         {\n",
        "             'last':'fermi',\n",
        "             'first':'enrio',\n",
        "             'username':'efermi',\n",
        "         },\n",
        "         {\n",
        "             'last':'curie',\n",
        "             'first':'marie',\n",
        "             'username':'mcurie',\n",
        "         }\n",
        "]"
      ],
      "execution_count": null,
      "outputs": []
    },
    {
      "cell_type": "code",
      "metadata": {
        "colab": {
          "base_uri": "https://localhost:8080/"
        },
        "id": "kQc3NQ2Wm3aJ",
        "outputId": "d370aaac-cd7f-4da2-99ec-b201252d5c93"
      },
      "source": [
        "for user_dict in users:\n",
        "  for k,v in user_dict.items():\n",
        "    print(k+\":\"+v)"
      ],
      "execution_count": null,
      "outputs": [
        {
          "output_type": "stream",
          "text": [
            "last:fermi\n",
            "first:enrio\n",
            "username:efermi\n",
            "last:curie\n",
            "first:marie\n",
            "username:mcurie\n"
          ],
          "name": "stdout"
        }
      ]
    },
    {
      "cell_type": "code",
      "metadata": {
        "id": "xag2dkKMndWh"
      },
      "source": [
        "fav_languages = {\n",
        "    'hancy':['python','c++'],\n",
        "    'vivek':['ruby','c'],\n",
        "    'vicky':['java','netbeans'],\n",
        "    'deep':['go','haskell']\n",
        "}"
      ],
      "execution_count": null,
      "outputs": []
    },
    {
      "cell_type": "code",
      "metadata": {
        "colab": {
          "base_uri": "https://localhost:8080/"
        },
        "id": "iFpr6KEzpCJE",
        "outputId": "ad518851-01ba-405f-eb36-9b70c5735383"
      },
      "source": [
        "for name,langs in fav_languages.items():\n",
        "  print(name+\":\")\n",
        "  for lang in langs:\n",
        "    print(\"-\"+lang)\n",
        "  print(\"\\t\")"
      ],
      "execution_count": null,
      "outputs": [
        {
          "output_type": "stream",
          "text": [
            "hancy:\n",
            "-python\n",
            "-c++\n",
            "\t\n",
            "vivek:\n",
            "-ruby\n",
            "-c\n",
            "\t\n",
            "vicky:\n",
            "-java\n",
            "-netbeans\n",
            "\t\n",
            "deep:\n",
            "-go\n",
            "-haskell\n",
            "\t\n"
          ],
          "name": "stdout"
        }
      ]
    },
    {
      "cell_type": "code",
      "metadata": {
        "id": "djRn2ixNpOod"
      },
      "source": [
        "users = {\n",
        "    'einstein':{\n",
        "        'first':'albert',\n",
        "        'last':'einstein',\n",
        "        'location':'princeton',\n",
        "    },\n",
        "    'mcurie':{\n",
        "        'first':'marie',\n",
        "        'last':'curie',\n",
        "        'location':'paris',\n",
        "    }\n",
        "}"
      ],
      "execution_count": null,
      "outputs": []
    },
    {
      "cell_type": "code",
      "metadata": {
        "colab": {
          "base_uri": "https://localhost:8080/"
        },
        "id": "9psEcgR7svZz",
        "outputId": "a648697c-c2de-4d04-a797-0585e5d2fb75"
      },
      "source": [
        "for username, user_dict in users.items():\n",
        "  print(\"\\nUsername: \"+username)\n",
        "  first_name=user_dict['first']+\" \"\n",
        "  last_name=user_dict['last']+\" \"\n",
        "  full_name=first_name+last_name\n",
        "  location=user_dict['location']\n",
        "  print(\"\\tFull Name: \"+full_name.title())\n",
        "  print(\"\\tLocation: \"+location.title())"
      ],
      "execution_count": null,
      "outputs": [
        {
          "output_type": "stream",
          "text": [
            "\n",
            "Username: einstein\n",
            "\tFull Name: Albert Einstein \n",
            "\tLocation: Princeton\n",
            "\n",
            "Username: mcurie\n",
            "\tFull Name: Marie Curie \n",
            "\tLocation: Paris\n"
          ],
          "name": "stdout"
        }
      ]
    },
    {
      "cell_type": "code",
      "metadata": {
        "id": "bIwLcg47thJN"
      },
      "source": [
        "from collections import OrderedDict\n",
        "fav_languages = OrderedDict()\n",
        "fav_languages['sarah']=['python','ruby']\n",
        "fav_languages['marcus']=['c']\n",
        "fav_languages['hancy']=['python','java']\n",
        "fav_languages['vicky']=['python','c++']"
      ],
      "execution_count": null,
      "outputs": []
    },
    {
      "cell_type": "code",
      "metadata": {
        "colab": {
          "base_uri": "https://localhost:8080/"
        },
        "id": "xzWzNPa6oxCM",
        "outputId": "afae321e-5315-4441-d03c-b2a04c218bd7"
      },
      "source": [
        "for name, langs in fav_languages.items():\n",
        "  print(name+\":\")\n",
        "  for lang in langs:\n",
        "    print(\"-\"+lang)\n",
        "  print(\"\\t\")"
      ],
      "execution_count": null,
      "outputs": [
        {
          "output_type": "stream",
          "text": [
            "sarah:\n",
            "-python\n",
            "-ruby\n",
            "\t\n",
            "marcus:\n",
            "-c\n",
            "\t\n",
            "hancy:\n",
            "-python\n",
            "-java\n",
            "\t\n",
            "vicky:\n",
            "-python\n",
            "-c++\n",
            "\t\n"
          ],
          "name": "stdout"
        }
      ]
    },
    {
      "cell_type": "code",
      "metadata": {
        "id": "NTVgtKNupBKk"
      },
      "source": [
        "fav_languages['vivek']=['c++','java']"
      ],
      "execution_count": null,
      "outputs": []
    },
    {
      "cell_type": "code",
      "metadata": {
        "colab": {
          "base_uri": "https://localhost:8080/"
        },
        "id": "3N6GsqMBpuLF",
        "outputId": "f3839146-ca57-4be9-808d-c2649e531e5d"
      },
      "source": [
        "for name in fav_languages.keys():\n",
        "  print(name+\"\\n\")"
      ],
      "execution_count": null,
      "outputs": [
        {
          "output_type": "stream",
          "text": [
            "sarah\n",
            "\n",
            "marcus\n",
            "\n",
            "hancy\n",
            "\n",
            "vicky\n",
            "\n",
            "vivek\n",
            "\n"
          ],
          "name": "stdout"
        }
      ]
    },
    {
      "cell_type": "code",
      "metadata": {
        "id": "j9G-JOadqBbz"
      },
      "source": [
        "aliens = []\n",
        "for aliens_num in range(1000):\n",
        "  new_alien = {}\n",
        "  new_alien['color']='green'\n",
        "  new_alien['points']=5\n",
        "  new_alien['x']=20*aliens_num\n",
        "  new_alien['y']=0\n",
        "  aliens.append(new_alien)"
      ],
      "execution_count": null,
      "outputs": []
    },
    {
      "cell_type": "code",
      "metadata": {
        "colab": {
          "base_uri": "https://localhost:8080/"
        },
        "id": "IfRxRZpbrvIt",
        "outputId": "26497a97-7a5e-40df-b808-d35f61fcd760"
      },
      "source": [
        "num_aliens = len(aliens)\n",
        "print(num_aliens)"
      ],
      "execution_count": null,
      "outputs": [
        {
          "output_type": "stream",
          "text": [
            "1000\n"
          ],
          "name": "stdout"
        }
      ]
    },
    {
      "cell_type": "code",
      "metadata": {
        "colab": {
          "base_uri": "https://localhost:8080/"
        },
        "id": "AV37wF5xsM_M",
        "outputId": "c3d136d9-7d81-44ac-8081-16dd3f652747"
      },
      "source": [
        "print(aliens)"
      ],
      "execution_count": null,
      "outputs": [
        {
          "output_type": "stream",
          "text": [
            "[{'color': 'green', 'points': 5, 'x': 0, 'y': 0}, {'color': 'green', 'points': 5, 'x': 20, 'y': 0}, {'color': 'green', 'points': 5, 'x': 40, 'y': 0}, {'color': 'green', 'points': 5, 'x': 60, 'y': 0}, {'color': 'green', 'points': 5, 'x': 80, 'y': 0}, {'color': 'green', 'points': 5, 'x': 100, 'y': 0}, {'color': 'green', 'points': 5, 'x': 120, 'y': 0}, {'color': 'green', 'points': 5, 'x': 140, 'y': 0}, {'color': 'green', 'points': 5, 'x': 160, 'y': 0}, {'color': 'green', 'points': 5, 'x': 180, 'y': 0}, {'color': 'green', 'points': 5, 'x': 200, 'y': 0}, {'color': 'green', 'points': 5, 'x': 220, 'y': 0}, {'color': 'green', 'points': 5, 'x': 240, 'y': 0}, {'color': 'green', 'points': 5, 'x': 260, 'y': 0}, {'color': 'green', 'points': 5, 'x': 280, 'y': 0}, {'color': 'green', 'points': 5, 'x': 300, 'y': 0}, {'color': 'green', 'points': 5, 'x': 320, 'y': 0}, {'color': 'green', 'points': 5, 'x': 340, 'y': 0}, {'color': 'green', 'points': 5, 'x': 360, 'y': 0}, {'color': 'green', 'points': 5, 'x': 380, 'y': 0}, {'color': 'green', 'points': 5, 'x': 400, 'y': 0}, {'color': 'green', 'points': 5, 'x': 420, 'y': 0}, {'color': 'green', 'points': 5, 'x': 440, 'y': 0}, {'color': 'green', 'points': 5, 'x': 460, 'y': 0}, {'color': 'green', 'points': 5, 'x': 480, 'y': 0}, {'color': 'green', 'points': 5, 'x': 500, 'y': 0}, {'color': 'green', 'points': 5, 'x': 520, 'y': 0}, {'color': 'green', 'points': 5, 'x': 540, 'y': 0}, {'color': 'green', 'points': 5, 'x': 560, 'y': 0}, {'color': 'green', 'points': 5, 'x': 580, 'y': 0}, {'color': 'green', 'points': 5, 'x': 600, 'y': 0}, {'color': 'green', 'points': 5, 'x': 620, 'y': 0}, {'color': 'green', 'points': 5, 'x': 640, 'y': 0}, {'color': 'green', 'points': 5, 'x': 660, 'y': 0}, {'color': 'green', 'points': 5, 'x': 680, 'y': 0}, {'color': 'green', 'points': 5, 'x': 700, 'y': 0}, {'color': 'green', 'points': 5, 'x': 720, 'y': 0}, {'color': 'green', 'points': 5, 'x': 740, 'y': 0}, {'color': 'green', 'points': 5, 'x': 760, 'y': 0}, {'color': 'green', 'points': 5, 'x': 780, 'y': 0}, {'color': 'green', 'points': 5, 'x': 800, 'y': 0}, {'color': 'green', 'points': 5, 'x': 820, 'y': 0}, {'color': 'green', 'points': 5, 'x': 840, 'y': 0}, {'color': 'green', 'points': 5, 'x': 860, 'y': 0}, {'color': 'green', 'points': 5, 'x': 880, 'y': 0}, {'color': 'green', 'points': 5, 'x': 900, 'y': 0}, {'color': 'green', 'points': 5, 'x': 920, 'y': 0}, {'color': 'green', 'points': 5, 'x': 940, 'y': 0}, {'color': 'green', 'points': 5, 'x': 960, 'y': 0}, {'color': 'green', 'points': 5, 'x': 980, 'y': 0}, {'color': 'green', 'points': 5, 'x': 1000, 'y': 0}, {'color': 'green', 'points': 5, 'x': 1020, 'y': 0}, {'color': 'green', 'points': 5, 'x': 1040, 'y': 0}, {'color': 'green', 'points': 5, 'x': 1060, 'y': 0}, {'color': 'green', 'points': 5, 'x': 1080, 'y': 0}, {'color': 'green', 'points': 5, 'x': 1100, 'y': 0}, {'color': 'green', 'points': 5, 'x': 1120, 'y': 0}, {'color': 'green', 'points': 5, 'x': 1140, 'y': 0}, {'color': 'green', 'points': 5, 'x': 1160, 'y': 0}, {'color': 'green', 'points': 5, 'x': 1180, 'y': 0}, {'color': 'green', 'points': 5, 'x': 1200, 'y': 0}, {'color': 'green', 'points': 5, 'x': 1220, 'y': 0}, {'color': 'green', 'points': 5, 'x': 1240, 'y': 0}, {'color': 'green', 'points': 5, 'x': 1260, 'y': 0}, {'color': 'green', 'points': 5, 'x': 1280, 'y': 0}, {'color': 'green', 'points': 5, 'x': 1300, 'y': 0}, {'color': 'green', 'points': 5, 'x': 1320, 'y': 0}, {'color': 'green', 'points': 5, 'x': 1340, 'y': 0}, {'color': 'green', 'points': 5, 'x': 1360, 'y': 0}, {'color': 'green', 'points': 5, 'x': 1380, 'y': 0}, {'color': 'green', 'points': 5, 'x': 1400, 'y': 0}, {'color': 'green', 'points': 5, 'x': 1420, 'y': 0}, {'color': 'green', 'points': 5, 'x': 1440, 'y': 0}, {'color': 'green', 'points': 5, 'x': 1460, 'y': 0}, {'color': 'green', 'points': 5, 'x': 1480, 'y': 0}, {'color': 'green', 'points': 5, 'x': 1500, 'y': 0}, {'color': 'green', 'points': 5, 'x': 1520, 'y': 0}, {'color': 'green', 'points': 5, 'x': 1540, 'y': 0}, {'color': 'green', 'points': 5, 'x': 1560, 'y': 0}, {'color': 'green', 'points': 5, 'x': 1580, 'y': 0}, {'color': 'green', 'points': 5, 'x': 1600, 'y': 0}, {'color': 'green', 'points': 5, 'x': 1620, 'y': 0}, {'color': 'green', 'points': 5, 'x': 1640, 'y': 0}, {'color': 'green', 'points': 5, 'x': 1660, 'y': 0}, {'color': 'green', 'points': 5, 'x': 1680, 'y': 0}, {'color': 'green', 'points': 5, 'x': 1700, 'y': 0}, {'color': 'green', 'points': 5, 'x': 1720, 'y': 0}, {'color': 'green', 'points': 5, 'x': 1740, 'y': 0}, {'color': 'green', 'points': 5, 'x': 1760, 'y': 0}, {'color': 'green', 'points': 5, 'x': 1780, 'y': 0}, {'color': 'green', 'points': 5, 'x': 1800, 'y': 0}, {'color': 'green', 'points': 5, 'x': 1820, 'y': 0}, {'color': 'green', 'points': 5, 'x': 1840, 'y': 0}, {'color': 'green', 'points': 5, 'x': 1860, 'y': 0}, {'color': 'green', 'points': 5, 'x': 1880, 'y': 0}, {'color': 'green', 'points': 5, 'x': 1900, 'y': 0}, {'color': 'green', 'points': 5, 'x': 1920, 'y': 0}, {'color': 'green', 'points': 5, 'x': 1940, 'y': 0}, {'color': 'green', 'points': 5, 'x': 1960, 'y': 0}, {'color': 'green', 'points': 5, 'x': 1980, 'y': 0}, {'color': 'green', 'points': 5, 'x': 2000, 'y': 0}, {'color': 'green', 'points': 5, 'x': 2020, 'y': 0}, {'color': 'green', 'points': 5, 'x': 2040, 'y': 0}, {'color': 'green', 'points': 5, 'x': 2060, 'y': 0}, {'color': 'green', 'points': 5, 'x': 2080, 'y': 0}, {'color': 'green', 'points': 5, 'x': 2100, 'y': 0}, {'color': 'green', 'points': 5, 'x': 2120, 'y': 0}, {'color': 'green', 'points': 5, 'x': 2140, 'y': 0}, {'color': 'green', 'points': 5, 'x': 2160, 'y': 0}, {'color': 'green', 'points': 5, 'x': 2180, 'y': 0}, {'color': 'green', 'points': 5, 'x': 2200, 'y': 0}, {'color': 'green', 'points': 5, 'x': 2220, 'y': 0}, {'color': 'green', 'points': 5, 'x': 2240, 'y': 0}, {'color': 'green', 'points': 5, 'x': 2260, 'y': 0}, {'color': 'green', 'points': 5, 'x': 2280, 'y': 0}, {'color': 'green', 'points': 5, 'x': 2300, 'y': 0}, {'color': 'green', 'points': 5, 'x': 2320, 'y': 0}, {'color': 'green', 'points': 5, 'x': 2340, 'y': 0}, {'color': 'green', 'points': 5, 'x': 2360, 'y': 0}, {'color': 'green', 'points': 5, 'x': 2380, 'y': 0}, {'color': 'green', 'points': 5, 'x': 2400, 'y': 0}, {'color': 'green', 'points': 5, 'x': 2420, 'y': 0}, {'color': 'green', 'points': 5, 'x': 2440, 'y': 0}, {'color': 'green', 'points': 5, 'x': 2460, 'y': 0}, {'color': 'green', 'points': 5, 'x': 2480, 'y': 0}, {'color': 'green', 'points': 5, 'x': 2500, 'y': 0}, {'color': 'green', 'points': 5, 'x': 2520, 'y': 0}, {'color': 'green', 'points': 5, 'x': 2540, 'y': 0}, {'color': 'green', 'points': 5, 'x': 2560, 'y': 0}, {'color': 'green', 'points': 5, 'x': 2580, 'y': 0}, {'color': 'green', 'points': 5, 'x': 2600, 'y': 0}, {'color': 'green', 'points': 5, 'x': 2620, 'y': 0}, {'color': 'green', 'points': 5, 'x': 2640, 'y': 0}, {'color': 'green', 'points': 5, 'x': 2660, 'y': 0}, {'color': 'green', 'points': 5, 'x': 2680, 'y': 0}, {'color': 'green', 'points': 5, 'x': 2700, 'y': 0}, {'color': 'green', 'points': 5, 'x': 2720, 'y': 0}, {'color': 'green', 'points': 5, 'x': 2740, 'y': 0}, {'color': 'green', 'points': 5, 'x': 2760, 'y': 0}, {'color': 'green', 'points': 5, 'x': 2780, 'y': 0}, {'color': 'green', 'points': 5, 'x': 2800, 'y': 0}, {'color': 'green', 'points': 5, 'x': 2820, 'y': 0}, {'color': 'green', 'points': 5, 'x': 2840, 'y': 0}, {'color': 'green', 'points': 5, 'x': 2860, 'y': 0}, {'color': 'green', 'points': 5, 'x': 2880, 'y': 0}, {'color': 'green', 'points': 5, 'x': 2900, 'y': 0}, {'color': 'green', 'points': 5, 'x': 2920, 'y': 0}, {'color': 'green', 'points': 5, 'x': 2940, 'y': 0}, {'color': 'green', 'points': 5, 'x': 2960, 'y': 0}, {'color': 'green', 'points': 5, 'x': 2980, 'y': 0}, {'color': 'green', 'points': 5, 'x': 3000, 'y': 0}, {'color': 'green', 'points': 5, 'x': 3020, 'y': 0}, {'color': 'green', 'points': 5, 'x': 3040, 'y': 0}, {'color': 'green', 'points': 5, 'x': 3060, 'y': 0}, {'color': 'green', 'points': 5, 'x': 3080, 'y': 0}, {'color': 'green', 'points': 5, 'x': 3100, 'y': 0}, {'color': 'green', 'points': 5, 'x': 3120, 'y': 0}, {'color': 'green', 'points': 5, 'x': 3140, 'y': 0}, {'color': 'green', 'points': 5, 'x': 3160, 'y': 0}, {'color': 'green', 'points': 5, 'x': 3180, 'y': 0}, {'color': 'green', 'points': 5, 'x': 3200, 'y': 0}, {'color': 'green', 'points': 5, 'x': 3220, 'y': 0}, {'color': 'green', 'points': 5, 'x': 3240, 'y': 0}, {'color': 'green', 'points': 5, 'x': 3260, 'y': 0}, {'color': 'green', 'points': 5, 'x': 3280, 'y': 0}, {'color': 'green', 'points': 5, 'x': 3300, 'y': 0}, {'color': 'green', 'points': 5, 'x': 3320, 'y': 0}, {'color': 'green', 'points': 5, 'x': 3340, 'y': 0}, {'color': 'green', 'points': 5, 'x': 3360, 'y': 0}, {'color': 'green', 'points': 5, 'x': 3380, 'y': 0}, {'color': 'green', 'points': 5, 'x': 3400, 'y': 0}, {'color': 'green', 'points': 5, 'x': 3420, 'y': 0}, {'color': 'green', 'points': 5, 'x': 3440, 'y': 0}, {'color': 'green', 'points': 5, 'x': 3460, 'y': 0}, {'color': 'green', 'points': 5, 'x': 3480, 'y': 0}, {'color': 'green', 'points': 5, 'x': 3500, 'y': 0}, {'color': 'green', 'points': 5, 'x': 3520, 'y': 0}, {'color': 'green', 'points': 5, 'x': 3540, 'y': 0}, {'color': 'green', 'points': 5, 'x': 3560, 'y': 0}, {'color': 'green', 'points': 5, 'x': 3580, 'y': 0}, {'color': 'green', 'points': 5, 'x': 3600, 'y': 0}, {'color': 'green', 'points': 5, 'x': 3620, 'y': 0}, {'color': 'green', 'points': 5, 'x': 3640, 'y': 0}, {'color': 'green', 'points': 5, 'x': 3660, 'y': 0}, {'color': 'green', 'points': 5, 'x': 3680, 'y': 0}, {'color': 'green', 'points': 5, 'x': 3700, 'y': 0}, {'color': 'green', 'points': 5, 'x': 3720, 'y': 0}, {'color': 'green', 'points': 5, 'x': 3740, 'y': 0}, {'color': 'green', 'points': 5, 'x': 3760, 'y': 0}, {'color': 'green', 'points': 5, 'x': 3780, 'y': 0}, {'color': 'green', 'points': 5, 'x': 3800, 'y': 0}, {'color': 'green', 'points': 5, 'x': 3820, 'y': 0}, {'color': 'green', 'points': 5, 'x': 3840, 'y': 0}, {'color': 'green', 'points': 5, 'x': 3860, 'y': 0}, {'color': 'green', 'points': 5, 'x': 3880, 'y': 0}, {'color': 'green', 'points': 5, 'x': 3900, 'y': 0}, {'color': 'green', 'points': 5, 'x': 3920, 'y': 0}, {'color': 'green', 'points': 5, 'x': 3940, 'y': 0}, {'color': 'green', 'points': 5, 'x': 3960, 'y': 0}, {'color': 'green', 'points': 5, 'x': 3980, 'y': 0}, {'color': 'green', 'points': 5, 'x': 4000, 'y': 0}, {'color': 'green', 'points': 5, 'x': 4020, 'y': 0}, {'color': 'green', 'points': 5, 'x': 4040, 'y': 0}, {'color': 'green', 'points': 5, 'x': 4060, 'y': 0}, {'color': 'green', 'points': 5, 'x': 4080, 'y': 0}, {'color': 'green', 'points': 5, 'x': 4100, 'y': 0}, {'color': 'green', 'points': 5, 'x': 4120, 'y': 0}, {'color': 'green', 'points': 5, 'x': 4140, 'y': 0}, {'color': 'green', 'points': 5, 'x': 4160, 'y': 0}, {'color': 'green', 'points': 5, 'x': 4180, 'y': 0}, {'color': 'green', 'points': 5, 'x': 4200, 'y': 0}, {'color': 'green', 'points': 5, 'x': 4220, 'y': 0}, {'color': 'green', 'points': 5, 'x': 4240, 'y': 0}, {'color': 'green', 'points': 5, 'x': 4260, 'y': 0}, {'color': 'green', 'points': 5, 'x': 4280, 'y': 0}, {'color': 'green', 'points': 5, 'x': 4300, 'y': 0}, {'color': 'green', 'points': 5, 'x': 4320, 'y': 0}, {'color': 'green', 'points': 5, 'x': 4340, 'y': 0}, {'color': 'green', 'points': 5, 'x': 4360, 'y': 0}, {'color': 'green', 'points': 5, 'x': 4380, 'y': 0}, {'color': 'green', 'points': 5, 'x': 4400, 'y': 0}, {'color': 'green', 'points': 5, 'x': 4420, 'y': 0}, {'color': 'green', 'points': 5, 'x': 4440, 'y': 0}, {'color': 'green', 'points': 5, 'x': 4460, 'y': 0}, {'color': 'green', 'points': 5, 'x': 4480, 'y': 0}, {'color': 'green', 'points': 5, 'x': 4500, 'y': 0}, {'color': 'green', 'points': 5, 'x': 4520, 'y': 0}, {'color': 'green', 'points': 5, 'x': 4540, 'y': 0}, {'color': 'green', 'points': 5, 'x': 4560, 'y': 0}, {'color': 'green', 'points': 5, 'x': 4580, 'y': 0}, {'color': 'green', 'points': 5, 'x': 4600, 'y': 0}, {'color': 'green', 'points': 5, 'x': 4620, 'y': 0}, {'color': 'green', 'points': 5, 'x': 4640, 'y': 0}, {'color': 'green', 'points': 5, 'x': 4660, 'y': 0}, {'color': 'green', 'points': 5, 'x': 4680, 'y': 0}, {'color': 'green', 'points': 5, 'x': 4700, 'y': 0}, {'color': 'green', 'points': 5, 'x': 4720, 'y': 0}, {'color': 'green', 'points': 5, 'x': 4740, 'y': 0}, {'color': 'green', 'points': 5, 'x': 4760, 'y': 0}, {'color': 'green', 'points': 5, 'x': 4780, 'y': 0}, {'color': 'green', 'points': 5, 'x': 4800, 'y': 0}, {'color': 'green', 'points': 5, 'x': 4820, 'y': 0}, {'color': 'green', 'points': 5, 'x': 4840, 'y': 0}, {'color': 'green', 'points': 5, 'x': 4860, 'y': 0}, {'color': 'green', 'points': 5, 'x': 4880, 'y': 0}, {'color': 'green', 'points': 5, 'x': 4900, 'y': 0}, {'color': 'green', 'points': 5, 'x': 4920, 'y': 0}, {'color': 'green', 'points': 5, 'x': 4940, 'y': 0}, {'color': 'green', 'points': 5, 'x': 4960, 'y': 0}, {'color': 'green', 'points': 5, 'x': 4980, 'y': 0}, {'color': 'green', 'points': 5, 'x': 5000, 'y': 0}, {'color': 'green', 'points': 5, 'x': 5020, 'y': 0}, {'color': 'green', 'points': 5, 'x': 5040, 'y': 0}, {'color': 'green', 'points': 5, 'x': 5060, 'y': 0}, {'color': 'green', 'points': 5, 'x': 5080, 'y': 0}, {'color': 'green', 'points': 5, 'x': 5100, 'y': 0}, {'color': 'green', 'points': 5, 'x': 5120, 'y': 0}, {'color': 'green', 'points': 5, 'x': 5140, 'y': 0}, {'color': 'green', 'points': 5, 'x': 5160, 'y': 0}, {'color': 'green', 'points': 5, 'x': 5180, 'y': 0}, {'color': 'green', 'points': 5, 'x': 5200, 'y': 0}, {'color': 'green', 'points': 5, 'x': 5220, 'y': 0}, {'color': 'green', 'points': 5, 'x': 5240, 'y': 0}, {'color': 'green', 'points': 5, 'x': 5260, 'y': 0}, {'color': 'green', 'points': 5, 'x': 5280, 'y': 0}, {'color': 'green', 'points': 5, 'x': 5300, 'y': 0}, {'color': 'green', 'points': 5, 'x': 5320, 'y': 0}, {'color': 'green', 'points': 5, 'x': 5340, 'y': 0}, {'color': 'green', 'points': 5, 'x': 5360, 'y': 0}, {'color': 'green', 'points': 5, 'x': 5380, 'y': 0}, {'color': 'green', 'points': 5, 'x': 5400, 'y': 0}, {'color': 'green', 'points': 5, 'x': 5420, 'y': 0}, {'color': 'green', 'points': 5, 'x': 5440, 'y': 0}, {'color': 'green', 'points': 5, 'x': 5460, 'y': 0}, {'color': 'green', 'points': 5, 'x': 5480, 'y': 0}, {'color': 'green', 'points': 5, 'x': 5500, 'y': 0}, {'color': 'green', 'points': 5, 'x': 5520, 'y': 0}, {'color': 'green', 'points': 5, 'x': 5540, 'y': 0}, {'color': 'green', 'points': 5, 'x': 5560, 'y': 0}, {'color': 'green', 'points': 5, 'x': 5580, 'y': 0}, {'color': 'green', 'points': 5, 'x': 5600, 'y': 0}, {'color': 'green', 'points': 5, 'x': 5620, 'y': 0}, {'color': 'green', 'points': 5, 'x': 5640, 'y': 0}, {'color': 'green', 'points': 5, 'x': 5660, 'y': 0}, {'color': 'green', 'points': 5, 'x': 5680, 'y': 0}, {'color': 'green', 'points': 5, 'x': 5700, 'y': 0}, {'color': 'green', 'points': 5, 'x': 5720, 'y': 0}, {'color': 'green', 'points': 5, 'x': 5740, 'y': 0}, {'color': 'green', 'points': 5, 'x': 5760, 'y': 0}, {'color': 'green', 'points': 5, 'x': 5780, 'y': 0}, {'color': 'green', 'points': 5, 'x': 5800, 'y': 0}, {'color': 'green', 'points': 5, 'x': 5820, 'y': 0}, {'color': 'green', 'points': 5, 'x': 5840, 'y': 0}, {'color': 'green', 'points': 5, 'x': 5860, 'y': 0}, {'color': 'green', 'points': 5, 'x': 5880, 'y': 0}, {'color': 'green', 'points': 5, 'x': 5900, 'y': 0}, {'color': 'green', 'points': 5, 'x': 5920, 'y': 0}, {'color': 'green', 'points': 5, 'x': 5940, 'y': 0}, {'color': 'green', 'points': 5, 'x': 5960, 'y': 0}, {'color': 'green', 'points': 5, 'x': 5980, 'y': 0}, {'color': 'green', 'points': 5, 'x': 6000, 'y': 0}, {'color': 'green', 'points': 5, 'x': 6020, 'y': 0}, {'color': 'green', 'points': 5, 'x': 6040, 'y': 0}, {'color': 'green', 'points': 5, 'x': 6060, 'y': 0}, {'color': 'green', 'points': 5, 'x': 6080, 'y': 0}, {'color': 'green', 'points': 5, 'x': 6100, 'y': 0}, {'color': 'green', 'points': 5, 'x': 6120, 'y': 0}, {'color': 'green', 'points': 5, 'x': 6140, 'y': 0}, {'color': 'green', 'points': 5, 'x': 6160, 'y': 0}, {'color': 'green', 'points': 5, 'x': 6180, 'y': 0}, {'color': 'green', 'points': 5, 'x': 6200, 'y': 0}, {'color': 'green', 'points': 5, 'x': 6220, 'y': 0}, {'color': 'green', 'points': 5, 'x': 6240, 'y': 0}, {'color': 'green', 'points': 5, 'x': 6260, 'y': 0}, {'color': 'green', 'points': 5, 'x': 6280, 'y': 0}, {'color': 'green', 'points': 5, 'x': 6300, 'y': 0}, {'color': 'green', 'points': 5, 'x': 6320, 'y': 0}, {'color': 'green', 'points': 5, 'x': 6340, 'y': 0}, {'color': 'green', 'points': 5, 'x': 6360, 'y': 0}, {'color': 'green', 'points': 5, 'x': 6380, 'y': 0}, {'color': 'green', 'points': 5, 'x': 6400, 'y': 0}, {'color': 'green', 'points': 5, 'x': 6420, 'y': 0}, {'color': 'green', 'points': 5, 'x': 6440, 'y': 0}, {'color': 'green', 'points': 5, 'x': 6460, 'y': 0}, {'color': 'green', 'points': 5, 'x': 6480, 'y': 0}, {'color': 'green', 'points': 5, 'x': 6500, 'y': 0}, {'color': 'green', 'points': 5, 'x': 6520, 'y': 0}, {'color': 'green', 'points': 5, 'x': 6540, 'y': 0}, {'color': 'green', 'points': 5, 'x': 6560, 'y': 0}, {'color': 'green', 'points': 5, 'x': 6580, 'y': 0}, {'color': 'green', 'points': 5, 'x': 6600, 'y': 0}, {'color': 'green', 'points': 5, 'x': 6620, 'y': 0}, {'color': 'green', 'points': 5, 'x': 6640, 'y': 0}, {'color': 'green', 'points': 5, 'x': 6660, 'y': 0}, {'color': 'green', 'points': 5, 'x': 6680, 'y': 0}, {'color': 'green', 'points': 5, 'x': 6700, 'y': 0}, {'color': 'green', 'points': 5, 'x': 6720, 'y': 0}, {'color': 'green', 'points': 5, 'x': 6740, 'y': 0}, {'color': 'green', 'points': 5, 'x': 6760, 'y': 0}, {'color': 'green', 'points': 5, 'x': 6780, 'y': 0}, {'color': 'green', 'points': 5, 'x': 6800, 'y': 0}, {'color': 'green', 'points': 5, 'x': 6820, 'y': 0}, {'color': 'green', 'points': 5, 'x': 6840, 'y': 0}, {'color': 'green', 'points': 5, 'x': 6860, 'y': 0}, {'color': 'green', 'points': 5, 'x': 6880, 'y': 0}, {'color': 'green', 'points': 5, 'x': 6900, 'y': 0}, {'color': 'green', 'points': 5, 'x': 6920, 'y': 0}, {'color': 'green', 'points': 5, 'x': 6940, 'y': 0}, {'color': 'green', 'points': 5, 'x': 6960, 'y': 0}, {'color': 'green', 'points': 5, 'x': 6980, 'y': 0}, {'color': 'green', 'points': 5, 'x': 7000, 'y': 0}, {'color': 'green', 'points': 5, 'x': 7020, 'y': 0}, {'color': 'green', 'points': 5, 'x': 7040, 'y': 0}, {'color': 'green', 'points': 5, 'x': 7060, 'y': 0}, {'color': 'green', 'points': 5, 'x': 7080, 'y': 0}, {'color': 'green', 'points': 5, 'x': 7100, 'y': 0}, {'color': 'green', 'points': 5, 'x': 7120, 'y': 0}, {'color': 'green', 'points': 5, 'x': 7140, 'y': 0}, {'color': 'green', 'points': 5, 'x': 7160, 'y': 0}, {'color': 'green', 'points': 5, 'x': 7180, 'y': 0}, {'color': 'green', 'points': 5, 'x': 7200, 'y': 0}, {'color': 'green', 'points': 5, 'x': 7220, 'y': 0}, {'color': 'green', 'points': 5, 'x': 7240, 'y': 0}, {'color': 'green', 'points': 5, 'x': 7260, 'y': 0}, {'color': 'green', 'points': 5, 'x': 7280, 'y': 0}, {'color': 'green', 'points': 5, 'x': 7300, 'y': 0}, {'color': 'green', 'points': 5, 'x': 7320, 'y': 0}, {'color': 'green', 'points': 5, 'x': 7340, 'y': 0}, {'color': 'green', 'points': 5, 'x': 7360, 'y': 0}, {'color': 'green', 'points': 5, 'x': 7380, 'y': 0}, {'color': 'green', 'points': 5, 'x': 7400, 'y': 0}, {'color': 'green', 'points': 5, 'x': 7420, 'y': 0}, {'color': 'green', 'points': 5, 'x': 7440, 'y': 0}, {'color': 'green', 'points': 5, 'x': 7460, 'y': 0}, {'color': 'green', 'points': 5, 'x': 7480, 'y': 0}, {'color': 'green', 'points': 5, 'x': 7500, 'y': 0}, {'color': 'green', 'points': 5, 'x': 7520, 'y': 0}, {'color': 'green', 'points': 5, 'x': 7540, 'y': 0}, {'color': 'green', 'points': 5, 'x': 7560, 'y': 0}, {'color': 'green', 'points': 5, 'x': 7580, 'y': 0}, {'color': 'green', 'points': 5, 'x': 7600, 'y': 0}, {'color': 'green', 'points': 5, 'x': 7620, 'y': 0}, {'color': 'green', 'points': 5, 'x': 7640, 'y': 0}, {'color': 'green', 'points': 5, 'x': 7660, 'y': 0}, {'color': 'green', 'points': 5, 'x': 7680, 'y': 0}, {'color': 'green', 'points': 5, 'x': 7700, 'y': 0}, {'color': 'green', 'points': 5, 'x': 7720, 'y': 0}, {'color': 'green', 'points': 5, 'x': 7740, 'y': 0}, {'color': 'green', 'points': 5, 'x': 7760, 'y': 0}, {'color': 'green', 'points': 5, 'x': 7780, 'y': 0}, {'color': 'green', 'points': 5, 'x': 7800, 'y': 0}, {'color': 'green', 'points': 5, 'x': 7820, 'y': 0}, {'color': 'green', 'points': 5, 'x': 7840, 'y': 0}, {'color': 'green', 'points': 5, 'x': 7860, 'y': 0}, {'color': 'green', 'points': 5, 'x': 7880, 'y': 0}, {'color': 'green', 'points': 5, 'x': 7900, 'y': 0}, {'color': 'green', 'points': 5, 'x': 7920, 'y': 0}, {'color': 'green', 'points': 5, 'x': 7940, 'y': 0}, {'color': 'green', 'points': 5, 'x': 7960, 'y': 0}, {'color': 'green', 'points': 5, 'x': 7980, 'y': 0}, {'color': 'green', 'points': 5, 'x': 8000, 'y': 0}, {'color': 'green', 'points': 5, 'x': 8020, 'y': 0}, {'color': 'green', 'points': 5, 'x': 8040, 'y': 0}, {'color': 'green', 'points': 5, 'x': 8060, 'y': 0}, {'color': 'green', 'points': 5, 'x': 8080, 'y': 0}, {'color': 'green', 'points': 5, 'x': 8100, 'y': 0}, {'color': 'green', 'points': 5, 'x': 8120, 'y': 0}, {'color': 'green', 'points': 5, 'x': 8140, 'y': 0}, {'color': 'green', 'points': 5, 'x': 8160, 'y': 0}, {'color': 'green', 'points': 5, 'x': 8180, 'y': 0}, {'color': 'green', 'points': 5, 'x': 8200, 'y': 0}, {'color': 'green', 'points': 5, 'x': 8220, 'y': 0}, {'color': 'green', 'points': 5, 'x': 8240, 'y': 0}, {'color': 'green', 'points': 5, 'x': 8260, 'y': 0}, {'color': 'green', 'points': 5, 'x': 8280, 'y': 0}, {'color': 'green', 'points': 5, 'x': 8300, 'y': 0}, {'color': 'green', 'points': 5, 'x': 8320, 'y': 0}, {'color': 'green', 'points': 5, 'x': 8340, 'y': 0}, {'color': 'green', 'points': 5, 'x': 8360, 'y': 0}, {'color': 'green', 'points': 5, 'x': 8380, 'y': 0}, {'color': 'green', 'points': 5, 'x': 8400, 'y': 0}, {'color': 'green', 'points': 5, 'x': 8420, 'y': 0}, {'color': 'green', 'points': 5, 'x': 8440, 'y': 0}, {'color': 'green', 'points': 5, 'x': 8460, 'y': 0}, {'color': 'green', 'points': 5, 'x': 8480, 'y': 0}, {'color': 'green', 'points': 5, 'x': 8500, 'y': 0}, {'color': 'green', 'points': 5, 'x': 8520, 'y': 0}, {'color': 'green', 'points': 5, 'x': 8540, 'y': 0}, {'color': 'green', 'points': 5, 'x': 8560, 'y': 0}, {'color': 'green', 'points': 5, 'x': 8580, 'y': 0}, {'color': 'green', 'points': 5, 'x': 8600, 'y': 0}, {'color': 'green', 'points': 5, 'x': 8620, 'y': 0}, {'color': 'green', 'points': 5, 'x': 8640, 'y': 0}, {'color': 'green', 'points': 5, 'x': 8660, 'y': 0}, {'color': 'green', 'points': 5, 'x': 8680, 'y': 0}, {'color': 'green', 'points': 5, 'x': 8700, 'y': 0}, {'color': 'green', 'points': 5, 'x': 8720, 'y': 0}, {'color': 'green', 'points': 5, 'x': 8740, 'y': 0}, {'color': 'green', 'points': 5, 'x': 8760, 'y': 0}, {'color': 'green', 'points': 5, 'x': 8780, 'y': 0}, {'color': 'green', 'points': 5, 'x': 8800, 'y': 0}, {'color': 'green', 'points': 5, 'x': 8820, 'y': 0}, {'color': 'green', 'points': 5, 'x': 8840, 'y': 0}, {'color': 'green', 'points': 5, 'x': 8860, 'y': 0}, {'color': 'green', 'points': 5, 'x': 8880, 'y': 0}, {'color': 'green', 'points': 5, 'x': 8900, 'y': 0}, {'color': 'green', 'points': 5, 'x': 8920, 'y': 0}, {'color': 'green', 'points': 5, 'x': 8940, 'y': 0}, {'color': 'green', 'points': 5, 'x': 8960, 'y': 0}, {'color': 'green', 'points': 5, 'x': 8980, 'y': 0}, {'color': 'green', 'points': 5, 'x': 9000, 'y': 0}, {'color': 'green', 'points': 5, 'x': 9020, 'y': 0}, {'color': 'green', 'points': 5, 'x': 9040, 'y': 0}, {'color': 'green', 'points': 5, 'x': 9060, 'y': 0}, {'color': 'green', 'points': 5, 'x': 9080, 'y': 0}, {'color': 'green', 'points': 5, 'x': 9100, 'y': 0}, {'color': 'green', 'points': 5, 'x': 9120, 'y': 0}, {'color': 'green', 'points': 5, 'x': 9140, 'y': 0}, {'color': 'green', 'points': 5, 'x': 9160, 'y': 0}, {'color': 'green', 'points': 5, 'x': 9180, 'y': 0}, {'color': 'green', 'points': 5, 'x': 9200, 'y': 0}, {'color': 'green', 'points': 5, 'x': 9220, 'y': 0}, {'color': 'green', 'points': 5, 'x': 9240, 'y': 0}, {'color': 'green', 'points': 5, 'x': 9260, 'y': 0}, {'color': 'green', 'points': 5, 'x': 9280, 'y': 0}, {'color': 'green', 'points': 5, 'x': 9300, 'y': 0}, {'color': 'green', 'points': 5, 'x': 9320, 'y': 0}, {'color': 'green', 'points': 5, 'x': 9340, 'y': 0}, {'color': 'green', 'points': 5, 'x': 9360, 'y': 0}, {'color': 'green', 'points': 5, 'x': 9380, 'y': 0}, {'color': 'green', 'points': 5, 'x': 9400, 'y': 0}, {'color': 'green', 'points': 5, 'x': 9420, 'y': 0}, {'color': 'green', 'points': 5, 'x': 9440, 'y': 0}, {'color': 'green', 'points': 5, 'x': 9460, 'y': 0}, {'color': 'green', 'points': 5, 'x': 9480, 'y': 0}, {'color': 'green', 'points': 5, 'x': 9500, 'y': 0}, {'color': 'green', 'points': 5, 'x': 9520, 'y': 0}, {'color': 'green', 'points': 5, 'x': 9540, 'y': 0}, {'color': 'green', 'points': 5, 'x': 9560, 'y': 0}, {'color': 'green', 'points': 5, 'x': 9580, 'y': 0}, {'color': 'green', 'points': 5, 'x': 9600, 'y': 0}, {'color': 'green', 'points': 5, 'x': 9620, 'y': 0}, {'color': 'green', 'points': 5, 'x': 9640, 'y': 0}, {'color': 'green', 'points': 5, 'x': 9660, 'y': 0}, {'color': 'green', 'points': 5, 'x': 9680, 'y': 0}, {'color': 'green', 'points': 5, 'x': 9700, 'y': 0}, {'color': 'green', 'points': 5, 'x': 9720, 'y': 0}, {'color': 'green', 'points': 5, 'x': 9740, 'y': 0}, {'color': 'green', 'points': 5, 'x': 9760, 'y': 0}, {'color': 'green', 'points': 5, 'x': 9780, 'y': 0}, {'color': 'green', 'points': 5, 'x': 9800, 'y': 0}, {'color': 'green', 'points': 5, 'x': 9820, 'y': 0}, {'color': 'green', 'points': 5, 'x': 9840, 'y': 0}, {'color': 'green', 'points': 5, 'x': 9860, 'y': 0}, {'color': 'green', 'points': 5, 'x': 9880, 'y': 0}, {'color': 'green', 'points': 5, 'x': 9900, 'y': 0}, {'color': 'green', 'points': 5, 'x': 9920, 'y': 0}, {'color': 'green', 'points': 5, 'x': 9940, 'y': 0}, {'color': 'green', 'points': 5, 'x': 9960, 'y': 0}, {'color': 'green', 'points': 5, 'x': 9980, 'y': 0}, {'color': 'green', 'points': 5, 'x': 10000, 'y': 0}, {'color': 'green', 'points': 5, 'x': 10020, 'y': 0}, {'color': 'green', 'points': 5, 'x': 10040, 'y': 0}, {'color': 'green', 'points': 5, 'x': 10060, 'y': 0}, {'color': 'green', 'points': 5, 'x': 10080, 'y': 0}, {'color': 'green', 'points': 5, 'x': 10100, 'y': 0}, {'color': 'green', 'points': 5, 'x': 10120, 'y': 0}, {'color': 'green', 'points': 5, 'x': 10140, 'y': 0}, {'color': 'green', 'points': 5, 'x': 10160, 'y': 0}, {'color': 'green', 'points': 5, 'x': 10180, 'y': 0}, {'color': 'green', 'points': 5, 'x': 10200, 'y': 0}, {'color': 'green', 'points': 5, 'x': 10220, 'y': 0}, {'color': 'green', 'points': 5, 'x': 10240, 'y': 0}, {'color': 'green', 'points': 5, 'x': 10260, 'y': 0}, {'color': 'green', 'points': 5, 'x': 10280, 'y': 0}, {'color': 'green', 'points': 5, 'x': 10300, 'y': 0}, {'color': 'green', 'points': 5, 'x': 10320, 'y': 0}, {'color': 'green', 'points': 5, 'x': 10340, 'y': 0}, {'color': 'green', 'points': 5, 'x': 10360, 'y': 0}, {'color': 'green', 'points': 5, 'x': 10380, 'y': 0}, {'color': 'green', 'points': 5, 'x': 10400, 'y': 0}, {'color': 'green', 'points': 5, 'x': 10420, 'y': 0}, {'color': 'green', 'points': 5, 'x': 10440, 'y': 0}, {'color': 'green', 'points': 5, 'x': 10460, 'y': 0}, {'color': 'green', 'points': 5, 'x': 10480, 'y': 0}, {'color': 'green', 'points': 5, 'x': 10500, 'y': 0}, {'color': 'green', 'points': 5, 'x': 10520, 'y': 0}, {'color': 'green', 'points': 5, 'x': 10540, 'y': 0}, {'color': 'green', 'points': 5, 'x': 10560, 'y': 0}, {'color': 'green', 'points': 5, 'x': 10580, 'y': 0}, {'color': 'green', 'points': 5, 'x': 10600, 'y': 0}, {'color': 'green', 'points': 5, 'x': 10620, 'y': 0}, {'color': 'green', 'points': 5, 'x': 10640, 'y': 0}, {'color': 'green', 'points': 5, 'x': 10660, 'y': 0}, {'color': 'green', 'points': 5, 'x': 10680, 'y': 0}, {'color': 'green', 'points': 5, 'x': 10700, 'y': 0}, {'color': 'green', 'points': 5, 'x': 10720, 'y': 0}, {'color': 'green', 'points': 5, 'x': 10740, 'y': 0}, {'color': 'green', 'points': 5, 'x': 10760, 'y': 0}, {'color': 'green', 'points': 5, 'x': 10780, 'y': 0}, {'color': 'green', 'points': 5, 'x': 10800, 'y': 0}, {'color': 'green', 'points': 5, 'x': 10820, 'y': 0}, {'color': 'green', 'points': 5, 'x': 10840, 'y': 0}, {'color': 'green', 'points': 5, 'x': 10860, 'y': 0}, {'color': 'green', 'points': 5, 'x': 10880, 'y': 0}, {'color': 'green', 'points': 5, 'x': 10900, 'y': 0}, {'color': 'green', 'points': 5, 'x': 10920, 'y': 0}, {'color': 'green', 'points': 5, 'x': 10940, 'y': 0}, {'color': 'green', 'points': 5, 'x': 10960, 'y': 0}, {'color': 'green', 'points': 5, 'x': 10980, 'y': 0}, {'color': 'green', 'points': 5, 'x': 11000, 'y': 0}, {'color': 'green', 'points': 5, 'x': 11020, 'y': 0}, {'color': 'green', 'points': 5, 'x': 11040, 'y': 0}, {'color': 'green', 'points': 5, 'x': 11060, 'y': 0}, {'color': 'green', 'points': 5, 'x': 11080, 'y': 0}, {'color': 'green', 'points': 5, 'x': 11100, 'y': 0}, {'color': 'green', 'points': 5, 'x': 11120, 'y': 0}, {'color': 'green', 'points': 5, 'x': 11140, 'y': 0}, {'color': 'green', 'points': 5, 'x': 11160, 'y': 0}, {'color': 'green', 'points': 5, 'x': 11180, 'y': 0}, {'color': 'green', 'points': 5, 'x': 11200, 'y': 0}, {'color': 'green', 'points': 5, 'x': 11220, 'y': 0}, {'color': 'green', 'points': 5, 'x': 11240, 'y': 0}, {'color': 'green', 'points': 5, 'x': 11260, 'y': 0}, {'color': 'green', 'points': 5, 'x': 11280, 'y': 0}, {'color': 'green', 'points': 5, 'x': 11300, 'y': 0}, {'color': 'green', 'points': 5, 'x': 11320, 'y': 0}, {'color': 'green', 'points': 5, 'x': 11340, 'y': 0}, {'color': 'green', 'points': 5, 'x': 11360, 'y': 0}, {'color': 'green', 'points': 5, 'x': 11380, 'y': 0}, {'color': 'green', 'points': 5, 'x': 11400, 'y': 0}, {'color': 'green', 'points': 5, 'x': 11420, 'y': 0}, {'color': 'green', 'points': 5, 'x': 11440, 'y': 0}, {'color': 'green', 'points': 5, 'x': 11460, 'y': 0}, {'color': 'green', 'points': 5, 'x': 11480, 'y': 0}, {'color': 'green', 'points': 5, 'x': 11500, 'y': 0}, {'color': 'green', 'points': 5, 'x': 11520, 'y': 0}, {'color': 'green', 'points': 5, 'x': 11540, 'y': 0}, {'color': 'green', 'points': 5, 'x': 11560, 'y': 0}, {'color': 'green', 'points': 5, 'x': 11580, 'y': 0}, {'color': 'green', 'points': 5, 'x': 11600, 'y': 0}, {'color': 'green', 'points': 5, 'x': 11620, 'y': 0}, {'color': 'green', 'points': 5, 'x': 11640, 'y': 0}, {'color': 'green', 'points': 5, 'x': 11660, 'y': 0}, {'color': 'green', 'points': 5, 'x': 11680, 'y': 0}, {'color': 'green', 'points': 5, 'x': 11700, 'y': 0}, {'color': 'green', 'points': 5, 'x': 11720, 'y': 0}, {'color': 'green', 'points': 5, 'x': 11740, 'y': 0}, {'color': 'green', 'points': 5, 'x': 11760, 'y': 0}, {'color': 'green', 'points': 5, 'x': 11780, 'y': 0}, {'color': 'green', 'points': 5, 'x': 11800, 'y': 0}, {'color': 'green', 'points': 5, 'x': 11820, 'y': 0}, {'color': 'green', 'points': 5, 'x': 11840, 'y': 0}, {'color': 'green', 'points': 5, 'x': 11860, 'y': 0}, {'color': 'green', 'points': 5, 'x': 11880, 'y': 0}, {'color': 'green', 'points': 5, 'x': 11900, 'y': 0}, {'color': 'green', 'points': 5, 'x': 11920, 'y': 0}, {'color': 'green', 'points': 5, 'x': 11940, 'y': 0}, {'color': 'green', 'points': 5, 'x': 11960, 'y': 0}, {'color': 'green', 'points': 5, 'x': 11980, 'y': 0}, {'color': 'green', 'points': 5, 'x': 12000, 'y': 0}, {'color': 'green', 'points': 5, 'x': 12020, 'y': 0}, {'color': 'green', 'points': 5, 'x': 12040, 'y': 0}, {'color': 'green', 'points': 5, 'x': 12060, 'y': 0}, {'color': 'green', 'points': 5, 'x': 12080, 'y': 0}, {'color': 'green', 'points': 5, 'x': 12100, 'y': 0}, {'color': 'green', 'points': 5, 'x': 12120, 'y': 0}, {'color': 'green', 'points': 5, 'x': 12140, 'y': 0}, {'color': 'green', 'points': 5, 'x': 12160, 'y': 0}, {'color': 'green', 'points': 5, 'x': 12180, 'y': 0}, {'color': 'green', 'points': 5, 'x': 12200, 'y': 0}, {'color': 'green', 'points': 5, 'x': 12220, 'y': 0}, {'color': 'green', 'points': 5, 'x': 12240, 'y': 0}, {'color': 'green', 'points': 5, 'x': 12260, 'y': 0}, {'color': 'green', 'points': 5, 'x': 12280, 'y': 0}, {'color': 'green', 'points': 5, 'x': 12300, 'y': 0}, {'color': 'green', 'points': 5, 'x': 12320, 'y': 0}, {'color': 'green', 'points': 5, 'x': 12340, 'y': 0}, {'color': 'green', 'points': 5, 'x': 12360, 'y': 0}, {'color': 'green', 'points': 5, 'x': 12380, 'y': 0}, {'color': 'green', 'points': 5, 'x': 12400, 'y': 0}, {'color': 'green', 'points': 5, 'x': 12420, 'y': 0}, {'color': 'green', 'points': 5, 'x': 12440, 'y': 0}, {'color': 'green', 'points': 5, 'x': 12460, 'y': 0}, {'color': 'green', 'points': 5, 'x': 12480, 'y': 0}, {'color': 'green', 'points': 5, 'x': 12500, 'y': 0}, {'color': 'green', 'points': 5, 'x': 12520, 'y': 0}, {'color': 'green', 'points': 5, 'x': 12540, 'y': 0}, {'color': 'green', 'points': 5, 'x': 12560, 'y': 0}, {'color': 'green', 'points': 5, 'x': 12580, 'y': 0}, {'color': 'green', 'points': 5, 'x': 12600, 'y': 0}, {'color': 'green', 'points': 5, 'x': 12620, 'y': 0}, {'color': 'green', 'points': 5, 'x': 12640, 'y': 0}, {'color': 'green', 'points': 5, 'x': 12660, 'y': 0}, {'color': 'green', 'points': 5, 'x': 12680, 'y': 0}, {'color': 'green', 'points': 5, 'x': 12700, 'y': 0}, {'color': 'green', 'points': 5, 'x': 12720, 'y': 0}, {'color': 'green', 'points': 5, 'x': 12740, 'y': 0}, {'color': 'green', 'points': 5, 'x': 12760, 'y': 0}, {'color': 'green', 'points': 5, 'x': 12780, 'y': 0}, {'color': 'green', 'points': 5, 'x': 12800, 'y': 0}, {'color': 'green', 'points': 5, 'x': 12820, 'y': 0}, {'color': 'green', 'points': 5, 'x': 12840, 'y': 0}, {'color': 'green', 'points': 5, 'x': 12860, 'y': 0}, {'color': 'green', 'points': 5, 'x': 12880, 'y': 0}, {'color': 'green', 'points': 5, 'x': 12900, 'y': 0}, {'color': 'green', 'points': 5, 'x': 12920, 'y': 0}, {'color': 'green', 'points': 5, 'x': 12940, 'y': 0}, {'color': 'green', 'points': 5, 'x': 12960, 'y': 0}, {'color': 'green', 'points': 5, 'x': 12980, 'y': 0}, {'color': 'green', 'points': 5, 'x': 13000, 'y': 0}, {'color': 'green', 'points': 5, 'x': 13020, 'y': 0}, {'color': 'green', 'points': 5, 'x': 13040, 'y': 0}, {'color': 'green', 'points': 5, 'x': 13060, 'y': 0}, {'color': 'green', 'points': 5, 'x': 13080, 'y': 0}, {'color': 'green', 'points': 5, 'x': 13100, 'y': 0}, {'color': 'green', 'points': 5, 'x': 13120, 'y': 0}, {'color': 'green', 'points': 5, 'x': 13140, 'y': 0}, {'color': 'green', 'points': 5, 'x': 13160, 'y': 0}, {'color': 'green', 'points': 5, 'x': 13180, 'y': 0}, {'color': 'green', 'points': 5, 'x': 13200, 'y': 0}, {'color': 'green', 'points': 5, 'x': 13220, 'y': 0}, {'color': 'green', 'points': 5, 'x': 13240, 'y': 0}, {'color': 'green', 'points': 5, 'x': 13260, 'y': 0}, {'color': 'green', 'points': 5, 'x': 13280, 'y': 0}, {'color': 'green', 'points': 5, 'x': 13300, 'y': 0}, {'color': 'green', 'points': 5, 'x': 13320, 'y': 0}, {'color': 'green', 'points': 5, 'x': 13340, 'y': 0}, {'color': 'green', 'points': 5, 'x': 13360, 'y': 0}, {'color': 'green', 'points': 5, 'x': 13380, 'y': 0}, {'color': 'green', 'points': 5, 'x': 13400, 'y': 0}, {'color': 'green', 'points': 5, 'x': 13420, 'y': 0}, {'color': 'green', 'points': 5, 'x': 13440, 'y': 0}, {'color': 'green', 'points': 5, 'x': 13460, 'y': 0}, {'color': 'green', 'points': 5, 'x': 13480, 'y': 0}, {'color': 'green', 'points': 5, 'x': 13500, 'y': 0}, {'color': 'green', 'points': 5, 'x': 13520, 'y': 0}, {'color': 'green', 'points': 5, 'x': 13540, 'y': 0}, {'color': 'green', 'points': 5, 'x': 13560, 'y': 0}, {'color': 'green', 'points': 5, 'x': 13580, 'y': 0}, {'color': 'green', 'points': 5, 'x': 13600, 'y': 0}, {'color': 'green', 'points': 5, 'x': 13620, 'y': 0}, {'color': 'green', 'points': 5, 'x': 13640, 'y': 0}, {'color': 'green', 'points': 5, 'x': 13660, 'y': 0}, {'color': 'green', 'points': 5, 'x': 13680, 'y': 0}, {'color': 'green', 'points': 5, 'x': 13700, 'y': 0}, {'color': 'green', 'points': 5, 'x': 13720, 'y': 0}, {'color': 'green', 'points': 5, 'x': 13740, 'y': 0}, {'color': 'green', 'points': 5, 'x': 13760, 'y': 0}, {'color': 'green', 'points': 5, 'x': 13780, 'y': 0}, {'color': 'green', 'points': 5, 'x': 13800, 'y': 0}, {'color': 'green', 'points': 5, 'x': 13820, 'y': 0}, {'color': 'green', 'points': 5, 'x': 13840, 'y': 0}, {'color': 'green', 'points': 5, 'x': 13860, 'y': 0}, {'color': 'green', 'points': 5, 'x': 13880, 'y': 0}, {'color': 'green', 'points': 5, 'x': 13900, 'y': 0}, {'color': 'green', 'points': 5, 'x': 13920, 'y': 0}, {'color': 'green', 'points': 5, 'x': 13940, 'y': 0}, {'color': 'green', 'points': 5, 'x': 13960, 'y': 0}, {'color': 'green', 'points': 5, 'x': 13980, 'y': 0}, {'color': 'green', 'points': 5, 'x': 14000, 'y': 0}, {'color': 'green', 'points': 5, 'x': 14020, 'y': 0}, {'color': 'green', 'points': 5, 'x': 14040, 'y': 0}, {'color': 'green', 'points': 5, 'x': 14060, 'y': 0}, {'color': 'green', 'points': 5, 'x': 14080, 'y': 0}, {'color': 'green', 'points': 5, 'x': 14100, 'y': 0}, {'color': 'green', 'points': 5, 'x': 14120, 'y': 0}, {'color': 'green', 'points': 5, 'x': 14140, 'y': 0}, {'color': 'green', 'points': 5, 'x': 14160, 'y': 0}, {'color': 'green', 'points': 5, 'x': 14180, 'y': 0}, {'color': 'green', 'points': 5, 'x': 14200, 'y': 0}, {'color': 'green', 'points': 5, 'x': 14220, 'y': 0}, {'color': 'green', 'points': 5, 'x': 14240, 'y': 0}, {'color': 'green', 'points': 5, 'x': 14260, 'y': 0}, {'color': 'green', 'points': 5, 'x': 14280, 'y': 0}, {'color': 'green', 'points': 5, 'x': 14300, 'y': 0}, {'color': 'green', 'points': 5, 'x': 14320, 'y': 0}, {'color': 'green', 'points': 5, 'x': 14340, 'y': 0}, {'color': 'green', 'points': 5, 'x': 14360, 'y': 0}, {'color': 'green', 'points': 5, 'x': 14380, 'y': 0}, {'color': 'green', 'points': 5, 'x': 14400, 'y': 0}, {'color': 'green', 'points': 5, 'x': 14420, 'y': 0}, {'color': 'green', 'points': 5, 'x': 14440, 'y': 0}, {'color': 'green', 'points': 5, 'x': 14460, 'y': 0}, {'color': 'green', 'points': 5, 'x': 14480, 'y': 0}, {'color': 'green', 'points': 5, 'x': 14500, 'y': 0}, {'color': 'green', 'points': 5, 'x': 14520, 'y': 0}, {'color': 'green', 'points': 5, 'x': 14540, 'y': 0}, {'color': 'green', 'points': 5, 'x': 14560, 'y': 0}, {'color': 'green', 'points': 5, 'x': 14580, 'y': 0}, {'color': 'green', 'points': 5, 'x': 14600, 'y': 0}, {'color': 'green', 'points': 5, 'x': 14620, 'y': 0}, {'color': 'green', 'points': 5, 'x': 14640, 'y': 0}, {'color': 'green', 'points': 5, 'x': 14660, 'y': 0}, {'color': 'green', 'points': 5, 'x': 14680, 'y': 0}, {'color': 'green', 'points': 5, 'x': 14700, 'y': 0}, {'color': 'green', 'points': 5, 'x': 14720, 'y': 0}, {'color': 'green', 'points': 5, 'x': 14740, 'y': 0}, {'color': 'green', 'points': 5, 'x': 14760, 'y': 0}, {'color': 'green', 'points': 5, 'x': 14780, 'y': 0}, {'color': 'green', 'points': 5, 'x': 14800, 'y': 0}, {'color': 'green', 'points': 5, 'x': 14820, 'y': 0}, {'color': 'green', 'points': 5, 'x': 14840, 'y': 0}, {'color': 'green', 'points': 5, 'x': 14860, 'y': 0}, {'color': 'green', 'points': 5, 'x': 14880, 'y': 0}, {'color': 'green', 'points': 5, 'x': 14900, 'y': 0}, {'color': 'green', 'points': 5, 'x': 14920, 'y': 0}, {'color': 'green', 'points': 5, 'x': 14940, 'y': 0}, {'color': 'green', 'points': 5, 'x': 14960, 'y': 0}, {'color': 'green', 'points': 5, 'x': 14980, 'y': 0}, {'color': 'green', 'points': 5, 'x': 15000, 'y': 0}, {'color': 'green', 'points': 5, 'x': 15020, 'y': 0}, {'color': 'green', 'points': 5, 'x': 15040, 'y': 0}, {'color': 'green', 'points': 5, 'x': 15060, 'y': 0}, {'color': 'green', 'points': 5, 'x': 15080, 'y': 0}, {'color': 'green', 'points': 5, 'x': 15100, 'y': 0}, {'color': 'green', 'points': 5, 'x': 15120, 'y': 0}, {'color': 'green', 'points': 5, 'x': 15140, 'y': 0}, {'color': 'green', 'points': 5, 'x': 15160, 'y': 0}, {'color': 'green', 'points': 5, 'x': 15180, 'y': 0}, {'color': 'green', 'points': 5, 'x': 15200, 'y': 0}, {'color': 'green', 'points': 5, 'x': 15220, 'y': 0}, {'color': 'green', 'points': 5, 'x': 15240, 'y': 0}, {'color': 'green', 'points': 5, 'x': 15260, 'y': 0}, {'color': 'green', 'points': 5, 'x': 15280, 'y': 0}, {'color': 'green', 'points': 5, 'x': 15300, 'y': 0}, {'color': 'green', 'points': 5, 'x': 15320, 'y': 0}, {'color': 'green', 'points': 5, 'x': 15340, 'y': 0}, {'color': 'green', 'points': 5, 'x': 15360, 'y': 0}, {'color': 'green', 'points': 5, 'x': 15380, 'y': 0}, {'color': 'green', 'points': 5, 'x': 15400, 'y': 0}, {'color': 'green', 'points': 5, 'x': 15420, 'y': 0}, {'color': 'green', 'points': 5, 'x': 15440, 'y': 0}, {'color': 'green', 'points': 5, 'x': 15460, 'y': 0}, {'color': 'green', 'points': 5, 'x': 15480, 'y': 0}, {'color': 'green', 'points': 5, 'x': 15500, 'y': 0}, {'color': 'green', 'points': 5, 'x': 15520, 'y': 0}, {'color': 'green', 'points': 5, 'x': 15540, 'y': 0}, {'color': 'green', 'points': 5, 'x': 15560, 'y': 0}, {'color': 'green', 'points': 5, 'x': 15580, 'y': 0}, {'color': 'green', 'points': 5, 'x': 15600, 'y': 0}, {'color': 'green', 'points': 5, 'x': 15620, 'y': 0}, {'color': 'green', 'points': 5, 'x': 15640, 'y': 0}, {'color': 'green', 'points': 5, 'x': 15660, 'y': 0}, {'color': 'green', 'points': 5, 'x': 15680, 'y': 0}, {'color': 'green', 'points': 5, 'x': 15700, 'y': 0}, {'color': 'green', 'points': 5, 'x': 15720, 'y': 0}, {'color': 'green', 'points': 5, 'x': 15740, 'y': 0}, {'color': 'green', 'points': 5, 'x': 15760, 'y': 0}, {'color': 'green', 'points': 5, 'x': 15780, 'y': 0}, {'color': 'green', 'points': 5, 'x': 15800, 'y': 0}, {'color': 'green', 'points': 5, 'x': 15820, 'y': 0}, {'color': 'green', 'points': 5, 'x': 15840, 'y': 0}, {'color': 'green', 'points': 5, 'x': 15860, 'y': 0}, {'color': 'green', 'points': 5, 'x': 15880, 'y': 0}, {'color': 'green', 'points': 5, 'x': 15900, 'y': 0}, {'color': 'green', 'points': 5, 'x': 15920, 'y': 0}, {'color': 'green', 'points': 5, 'x': 15940, 'y': 0}, {'color': 'green', 'points': 5, 'x': 15960, 'y': 0}, {'color': 'green', 'points': 5, 'x': 15980, 'y': 0}, {'color': 'green', 'points': 5, 'x': 16000, 'y': 0}, {'color': 'green', 'points': 5, 'x': 16020, 'y': 0}, {'color': 'green', 'points': 5, 'x': 16040, 'y': 0}, {'color': 'green', 'points': 5, 'x': 16060, 'y': 0}, {'color': 'green', 'points': 5, 'x': 16080, 'y': 0}, {'color': 'green', 'points': 5, 'x': 16100, 'y': 0}, {'color': 'green', 'points': 5, 'x': 16120, 'y': 0}, {'color': 'green', 'points': 5, 'x': 16140, 'y': 0}, {'color': 'green', 'points': 5, 'x': 16160, 'y': 0}, {'color': 'green', 'points': 5, 'x': 16180, 'y': 0}, {'color': 'green', 'points': 5, 'x': 16200, 'y': 0}, {'color': 'green', 'points': 5, 'x': 16220, 'y': 0}, {'color': 'green', 'points': 5, 'x': 16240, 'y': 0}, {'color': 'green', 'points': 5, 'x': 16260, 'y': 0}, {'color': 'green', 'points': 5, 'x': 16280, 'y': 0}, {'color': 'green', 'points': 5, 'x': 16300, 'y': 0}, {'color': 'green', 'points': 5, 'x': 16320, 'y': 0}, {'color': 'green', 'points': 5, 'x': 16340, 'y': 0}, {'color': 'green', 'points': 5, 'x': 16360, 'y': 0}, {'color': 'green', 'points': 5, 'x': 16380, 'y': 0}, {'color': 'green', 'points': 5, 'x': 16400, 'y': 0}, {'color': 'green', 'points': 5, 'x': 16420, 'y': 0}, {'color': 'green', 'points': 5, 'x': 16440, 'y': 0}, {'color': 'green', 'points': 5, 'x': 16460, 'y': 0}, {'color': 'green', 'points': 5, 'x': 16480, 'y': 0}, {'color': 'green', 'points': 5, 'x': 16500, 'y': 0}, {'color': 'green', 'points': 5, 'x': 16520, 'y': 0}, {'color': 'green', 'points': 5, 'x': 16540, 'y': 0}, {'color': 'green', 'points': 5, 'x': 16560, 'y': 0}, {'color': 'green', 'points': 5, 'x': 16580, 'y': 0}, {'color': 'green', 'points': 5, 'x': 16600, 'y': 0}, {'color': 'green', 'points': 5, 'x': 16620, 'y': 0}, {'color': 'green', 'points': 5, 'x': 16640, 'y': 0}, {'color': 'green', 'points': 5, 'x': 16660, 'y': 0}, {'color': 'green', 'points': 5, 'x': 16680, 'y': 0}, {'color': 'green', 'points': 5, 'x': 16700, 'y': 0}, {'color': 'green', 'points': 5, 'x': 16720, 'y': 0}, {'color': 'green', 'points': 5, 'x': 16740, 'y': 0}, {'color': 'green', 'points': 5, 'x': 16760, 'y': 0}, {'color': 'green', 'points': 5, 'x': 16780, 'y': 0}, {'color': 'green', 'points': 5, 'x': 16800, 'y': 0}, {'color': 'green', 'points': 5, 'x': 16820, 'y': 0}, {'color': 'green', 'points': 5, 'x': 16840, 'y': 0}, {'color': 'green', 'points': 5, 'x': 16860, 'y': 0}, {'color': 'green', 'points': 5, 'x': 16880, 'y': 0}, {'color': 'green', 'points': 5, 'x': 16900, 'y': 0}, {'color': 'green', 'points': 5, 'x': 16920, 'y': 0}, {'color': 'green', 'points': 5, 'x': 16940, 'y': 0}, {'color': 'green', 'points': 5, 'x': 16960, 'y': 0}, {'color': 'green', 'points': 5, 'x': 16980, 'y': 0}, {'color': 'green', 'points': 5, 'x': 17000, 'y': 0}, {'color': 'green', 'points': 5, 'x': 17020, 'y': 0}, {'color': 'green', 'points': 5, 'x': 17040, 'y': 0}, {'color': 'green', 'points': 5, 'x': 17060, 'y': 0}, {'color': 'green', 'points': 5, 'x': 17080, 'y': 0}, {'color': 'green', 'points': 5, 'x': 17100, 'y': 0}, {'color': 'green', 'points': 5, 'x': 17120, 'y': 0}, {'color': 'green', 'points': 5, 'x': 17140, 'y': 0}, {'color': 'green', 'points': 5, 'x': 17160, 'y': 0}, {'color': 'green', 'points': 5, 'x': 17180, 'y': 0}, {'color': 'green', 'points': 5, 'x': 17200, 'y': 0}, {'color': 'green', 'points': 5, 'x': 17220, 'y': 0}, {'color': 'green', 'points': 5, 'x': 17240, 'y': 0}, {'color': 'green', 'points': 5, 'x': 17260, 'y': 0}, {'color': 'green', 'points': 5, 'x': 17280, 'y': 0}, {'color': 'green', 'points': 5, 'x': 17300, 'y': 0}, {'color': 'green', 'points': 5, 'x': 17320, 'y': 0}, {'color': 'green', 'points': 5, 'x': 17340, 'y': 0}, {'color': 'green', 'points': 5, 'x': 17360, 'y': 0}, {'color': 'green', 'points': 5, 'x': 17380, 'y': 0}, {'color': 'green', 'points': 5, 'x': 17400, 'y': 0}, {'color': 'green', 'points': 5, 'x': 17420, 'y': 0}, {'color': 'green', 'points': 5, 'x': 17440, 'y': 0}, {'color': 'green', 'points': 5, 'x': 17460, 'y': 0}, {'color': 'green', 'points': 5, 'x': 17480, 'y': 0}, {'color': 'green', 'points': 5, 'x': 17500, 'y': 0}, {'color': 'green', 'points': 5, 'x': 17520, 'y': 0}, {'color': 'green', 'points': 5, 'x': 17540, 'y': 0}, {'color': 'green', 'points': 5, 'x': 17560, 'y': 0}, {'color': 'green', 'points': 5, 'x': 17580, 'y': 0}, {'color': 'green', 'points': 5, 'x': 17600, 'y': 0}, {'color': 'green', 'points': 5, 'x': 17620, 'y': 0}, {'color': 'green', 'points': 5, 'x': 17640, 'y': 0}, {'color': 'green', 'points': 5, 'x': 17660, 'y': 0}, {'color': 'green', 'points': 5, 'x': 17680, 'y': 0}, {'color': 'green', 'points': 5, 'x': 17700, 'y': 0}, {'color': 'green', 'points': 5, 'x': 17720, 'y': 0}, {'color': 'green', 'points': 5, 'x': 17740, 'y': 0}, {'color': 'green', 'points': 5, 'x': 17760, 'y': 0}, {'color': 'green', 'points': 5, 'x': 17780, 'y': 0}, {'color': 'green', 'points': 5, 'x': 17800, 'y': 0}, {'color': 'green', 'points': 5, 'x': 17820, 'y': 0}, {'color': 'green', 'points': 5, 'x': 17840, 'y': 0}, {'color': 'green', 'points': 5, 'x': 17860, 'y': 0}, {'color': 'green', 'points': 5, 'x': 17880, 'y': 0}, {'color': 'green', 'points': 5, 'x': 17900, 'y': 0}, {'color': 'green', 'points': 5, 'x': 17920, 'y': 0}, {'color': 'green', 'points': 5, 'x': 17940, 'y': 0}, {'color': 'green', 'points': 5, 'x': 17960, 'y': 0}, {'color': 'green', 'points': 5, 'x': 17980, 'y': 0}, {'color': 'green', 'points': 5, 'x': 18000, 'y': 0}, {'color': 'green', 'points': 5, 'x': 18020, 'y': 0}, {'color': 'green', 'points': 5, 'x': 18040, 'y': 0}, {'color': 'green', 'points': 5, 'x': 18060, 'y': 0}, {'color': 'green', 'points': 5, 'x': 18080, 'y': 0}, {'color': 'green', 'points': 5, 'x': 18100, 'y': 0}, {'color': 'green', 'points': 5, 'x': 18120, 'y': 0}, {'color': 'green', 'points': 5, 'x': 18140, 'y': 0}, {'color': 'green', 'points': 5, 'x': 18160, 'y': 0}, {'color': 'green', 'points': 5, 'x': 18180, 'y': 0}, {'color': 'green', 'points': 5, 'x': 18200, 'y': 0}, {'color': 'green', 'points': 5, 'x': 18220, 'y': 0}, {'color': 'green', 'points': 5, 'x': 18240, 'y': 0}, {'color': 'green', 'points': 5, 'x': 18260, 'y': 0}, {'color': 'green', 'points': 5, 'x': 18280, 'y': 0}, {'color': 'green', 'points': 5, 'x': 18300, 'y': 0}, {'color': 'green', 'points': 5, 'x': 18320, 'y': 0}, {'color': 'green', 'points': 5, 'x': 18340, 'y': 0}, {'color': 'green', 'points': 5, 'x': 18360, 'y': 0}, {'color': 'green', 'points': 5, 'x': 18380, 'y': 0}, {'color': 'green', 'points': 5, 'x': 18400, 'y': 0}, {'color': 'green', 'points': 5, 'x': 18420, 'y': 0}, {'color': 'green', 'points': 5, 'x': 18440, 'y': 0}, {'color': 'green', 'points': 5, 'x': 18460, 'y': 0}, {'color': 'green', 'points': 5, 'x': 18480, 'y': 0}, {'color': 'green', 'points': 5, 'x': 18500, 'y': 0}, {'color': 'green', 'points': 5, 'x': 18520, 'y': 0}, {'color': 'green', 'points': 5, 'x': 18540, 'y': 0}, {'color': 'green', 'points': 5, 'x': 18560, 'y': 0}, {'color': 'green', 'points': 5, 'x': 18580, 'y': 0}, {'color': 'green', 'points': 5, 'x': 18600, 'y': 0}, {'color': 'green', 'points': 5, 'x': 18620, 'y': 0}, {'color': 'green', 'points': 5, 'x': 18640, 'y': 0}, {'color': 'green', 'points': 5, 'x': 18660, 'y': 0}, {'color': 'green', 'points': 5, 'x': 18680, 'y': 0}, {'color': 'green', 'points': 5, 'x': 18700, 'y': 0}, {'color': 'green', 'points': 5, 'x': 18720, 'y': 0}, {'color': 'green', 'points': 5, 'x': 18740, 'y': 0}, {'color': 'green', 'points': 5, 'x': 18760, 'y': 0}, {'color': 'green', 'points': 5, 'x': 18780, 'y': 0}, {'color': 'green', 'points': 5, 'x': 18800, 'y': 0}, {'color': 'green', 'points': 5, 'x': 18820, 'y': 0}, {'color': 'green', 'points': 5, 'x': 18840, 'y': 0}, {'color': 'green', 'points': 5, 'x': 18860, 'y': 0}, {'color': 'green', 'points': 5, 'x': 18880, 'y': 0}, {'color': 'green', 'points': 5, 'x': 18900, 'y': 0}, {'color': 'green', 'points': 5, 'x': 18920, 'y': 0}, {'color': 'green', 'points': 5, 'x': 18940, 'y': 0}, {'color': 'green', 'points': 5, 'x': 18960, 'y': 0}, {'color': 'green', 'points': 5, 'x': 18980, 'y': 0}, {'color': 'green', 'points': 5, 'x': 19000, 'y': 0}, {'color': 'green', 'points': 5, 'x': 19020, 'y': 0}, {'color': 'green', 'points': 5, 'x': 19040, 'y': 0}, {'color': 'green', 'points': 5, 'x': 19060, 'y': 0}, {'color': 'green', 'points': 5, 'x': 19080, 'y': 0}, {'color': 'green', 'points': 5, 'x': 19100, 'y': 0}, {'color': 'green', 'points': 5, 'x': 19120, 'y': 0}, {'color': 'green', 'points': 5, 'x': 19140, 'y': 0}, {'color': 'green', 'points': 5, 'x': 19160, 'y': 0}, {'color': 'green', 'points': 5, 'x': 19180, 'y': 0}, {'color': 'green', 'points': 5, 'x': 19200, 'y': 0}, {'color': 'green', 'points': 5, 'x': 19220, 'y': 0}, {'color': 'green', 'points': 5, 'x': 19240, 'y': 0}, {'color': 'green', 'points': 5, 'x': 19260, 'y': 0}, {'color': 'green', 'points': 5, 'x': 19280, 'y': 0}, {'color': 'green', 'points': 5, 'x': 19300, 'y': 0}, {'color': 'green', 'points': 5, 'x': 19320, 'y': 0}, {'color': 'green', 'points': 5, 'x': 19340, 'y': 0}, {'color': 'green', 'points': 5, 'x': 19360, 'y': 0}, {'color': 'green', 'points': 5, 'x': 19380, 'y': 0}, {'color': 'green', 'points': 5, 'x': 19400, 'y': 0}, {'color': 'green', 'points': 5, 'x': 19420, 'y': 0}, {'color': 'green', 'points': 5, 'x': 19440, 'y': 0}, {'color': 'green', 'points': 5, 'x': 19460, 'y': 0}, {'color': 'green', 'points': 5, 'x': 19480, 'y': 0}, {'color': 'green', 'points': 5, 'x': 19500, 'y': 0}, {'color': 'green', 'points': 5, 'x': 19520, 'y': 0}, {'color': 'green', 'points': 5, 'x': 19540, 'y': 0}, {'color': 'green', 'points': 5, 'x': 19560, 'y': 0}, {'color': 'green', 'points': 5, 'x': 19580, 'y': 0}, {'color': 'green', 'points': 5, 'x': 19600, 'y': 0}, {'color': 'green', 'points': 5, 'x': 19620, 'y': 0}, {'color': 'green', 'points': 5, 'x': 19640, 'y': 0}, {'color': 'green', 'points': 5, 'x': 19660, 'y': 0}, {'color': 'green', 'points': 5, 'x': 19680, 'y': 0}, {'color': 'green', 'points': 5, 'x': 19700, 'y': 0}, {'color': 'green', 'points': 5, 'x': 19720, 'y': 0}, {'color': 'green', 'points': 5, 'x': 19740, 'y': 0}, {'color': 'green', 'points': 5, 'x': 19760, 'y': 0}, {'color': 'green', 'points': 5, 'x': 19780, 'y': 0}, {'color': 'green', 'points': 5, 'x': 19800, 'y': 0}, {'color': 'green', 'points': 5, 'x': 19820, 'y': 0}, {'color': 'green', 'points': 5, 'x': 19840, 'y': 0}, {'color': 'green', 'points': 5, 'x': 19860, 'y': 0}, {'color': 'green', 'points': 5, 'x': 19880, 'y': 0}, {'color': 'green', 'points': 5, 'x': 19900, 'y': 0}, {'color': 'green', 'points': 5, 'x': 19920, 'y': 0}, {'color': 'green', 'points': 5, 'x': 19940, 'y': 0}, {'color': 'green', 'points': 5, 'x': 19960, 'y': 0}, {'color': 'green', 'points': 5, 'x': 19980, 'y': 0}]\n"
          ],
          "name": "stdout"
        }
      ]
    },
    {
      "cell_type": "code",
      "metadata": {
        "colab": {
          "base_uri": "https://localhost:8080/"
        },
        "id": "8x8pTKRcsSnl",
        "outputId": "815c71cc-cdb2-4290-9aa3-059e568cb495"
      },
      "source": [
        "age=21\n",
        "if age<4:\n",
        "  price=0\n",
        "elif age<18:\n",
        "  price=5\n",
        "else:\n",
        "  price=10\n",
        "print(\"your cost is Rs \"+str(price)+\".\")"
      ],
      "execution_count": null,
      "outputs": [
        {
          "output_type": "stream",
          "text": [
            "your cost is Rs 10.\n"
          ],
          "name": "stdout"
        }
      ]
    },
    {
      "cell_type": "code",
      "metadata": {
        "id": "cdoqBqYKs5UZ"
      },
      "source": [
        "players = ['al','bel','kel','chota','pota','lota']"
      ],
      "execution_count": null,
      "outputs": []
    },
    {
      "cell_type": "code",
      "metadata": {
        "colab": {
          "base_uri": "https://localhost:8080/"
        },
        "id": "NYnt_TB9t9Yh",
        "outputId": "5dbc4b80-3a43-478f-abe5-f515c0981d3b"
      },
      "source": [
        "'al' in players"
      ],
      "execution_count": null,
      "outputs": [
        {
          "output_type": "execute_result",
          "data": {
            "text/plain": [
              "True"
            ]
          },
          "metadata": {
            "tags": []
          },
          "execution_count": 8
        }
      ]
    },
    {
      "cell_type": "code",
      "metadata": {
        "colab": {
          "base_uri": "https://localhost:8080/"
        },
        "id": "feDsLznMt_xq",
        "outputId": "f5a9d480-1ddf-4141-acd1-9610414a5a90"
      },
      "source": [
        "'mota' in players"
      ],
      "execution_count": null,
      "outputs": [
        {
          "output_type": "execute_result",
          "data": {
            "text/plain": [
              "False"
            ]
          },
          "metadata": {
            "tags": []
          },
          "execution_count": 9
        }
      ]
    },
    {
      "cell_type": "code",
      "metadata": {
        "colab": {
          "base_uri": "https://localhost:8080/"
        },
        "id": "dHMTN9_5uDTp",
        "outputId": "5d1d2faa-2c5c-4406-d559-4564285859b3"
      },
      "source": [
        "len(players)"
      ],
      "execution_count": null,
      "outputs": [
        {
          "output_type": "execute_result",
          "data": {
            "text/plain": [
              "6"
            ]
          },
          "metadata": {
            "tags": []
          },
          "execution_count": 10
        }
      ]
    },
    {
      "cell_type": "code",
      "metadata": {
        "colab": {
          "base_uri": "https://localhost:8080/"
        },
        "id": "4robYVSKuJzx",
        "outputId": "541153f6-27f6-4339-ac21-87e525e2b7f4"
      },
      "source": [
        "players = ['al','bel','kel','chota','pota','lota']\n",
        "if players:\n",
        "  for player in players:\n",
        "    print(\"Player: \"+ player.title())\n",
        "else:\n",
        "  print(\"We have no Players yet!\")"
      ],
      "execution_count": null,
      "outputs": [
        {
          "output_type": "stream",
          "text": [
            "Player: Al\n",
            "Player: Bel\n",
            "Player: Kel\n",
            "Player: Chota\n",
            "Player: Pota\n",
            "Player: Lota\n"
          ],
          "name": "stdout"
        }
      ]
    },
    {
      "cell_type": "code",
      "metadata": {
        "colab": {
          "base_uri": "https://localhost:8080/"
        },
        "id": "Uz5KbXkQv2Qa",
        "outputId": "755c3385-2754-41ab-e567-1f70eac0ff32"
      },
      "source": [
        "name = input(\"What's your name : \")\n",
        "print(\"Hello \"+name)"
      ],
      "execution_count": null,
      "outputs": [
        {
          "output_type": "stream",
          "text": [
            "What's your name : Hancy kumar\n",
            "Hello Hancy kumar\n"
          ],
          "name": "stdout"
        }
      ]
    },
    {
      "cell_type": "code",
      "metadata": {
        "colab": {
          "base_uri": "https://localhost:8080/"
        },
        "id": "9BGVle3Fwilh",
        "outputId": "17e9a5cc-92d6-4077-ee18-51360c4289d7"
      },
      "source": [
        "age = int(input(\"age: \"))\n",
        "if age>=18:\n",
        "  print(\"above 18\")\n",
        "else:\n",
        "  print(\"below 18\")"
      ],
      "execution_count": null,
      "outputs": [
        {
          "output_type": "stream",
          "text": [
            "age: 21\n",
            "above 18\n"
          ],
          "name": "stdout"
        }
      ]
    },
    {
      "cell_type": "code",
      "metadata": {
        "id": "_uDXJyQJxRLR"
      },
      "source": [
        "hancy = []\n",
        "c_n = 1\n",
        "while c_n<=10:\n",
        "  hancy.append(c_n)\n",
        "  c_n+=1"
      ],
      "execution_count": null,
      "outputs": []
    },
    {
      "cell_type": "code",
      "metadata": {
        "colab": {
          "base_uri": "https://localhost:8080/"
        },
        "id": "243M4tzax1uC",
        "outputId": "ef328af3-f240-492d-e62a-02a1b67dab69"
      },
      "source": [
        "print(hancy)"
      ],
      "execution_count": null,
      "outputs": [
        {
          "output_type": "stream",
          "text": [
            "[1, 2, 3, 4, 5, 6, 7, 8, 9, 10]\n"
          ],
          "name": "stdout"
        }
      ]
    },
    {
      "cell_type": "code",
      "metadata": {
        "colab": {
          "base_uri": "https://localhost:8080/"
        },
        "id": "snNf9f1WyRUa",
        "outputId": "2a10fccf-962a-4e7d-fd70-3e36fc62d9bc"
      },
      "source": [
        "prompt = \"\\n Tell me something and I'll\"\n",
        "prompt += \" repeat it back to you\"\n",
        "prompt +=\"\\n Enter 'quit'to end the program: \"\n",
        "message = \"\"\n",
        "while message!='quit':\n",
        "  message = input(prompt)\n",
        "  if message != 'quit':\n",
        "    print(\" \"+message)"
      ],
      "execution_count": null,
      "outputs": [
        {
          "output_type": "stream",
          "text": [
            "\n",
            " Tell me something and I'll repeat it back to you\n",
            " Enter 'quit'to end the program: hello\n",
            " hello\n",
            "\n",
            " Tell me something and I'll repeat it back to you\n",
            " Enter 'quit'to end the program: kaise hai\n",
            " kaise hai\n",
            "\n",
            " Tell me something and I'll repeat it back to you\n",
            " Enter 'quit'to end the program: quit\n"
          ],
          "name": "stdout"
        }
      ]
    },
    {
      "cell_type": "code",
      "metadata": {
        "colab": {
          "base_uri": "https://localhost:8080/"
        },
        "id": "nqUNMAgO0Azp",
        "outputId": "a7bf1dd5-c0bd-4c26-fff1-e8249b315d50"
      },
      "source": [
        "prompt = \"\\n Tell me something and I'll\"\n",
        "prompt += \" repeat it back to you\"\n",
        "prompt +=\"\\n Enter 'quit'to end the program: \"\n",
        "active = True\n",
        "while active:\n",
        "  message = input(prompt)\n",
        "  if message == 'quit':\n",
        "    active = False\n",
        "  else:\n",
        "    print(\" \"+message)"
      ],
      "execution_count": null,
      "outputs": [
        {
          "output_type": "stream",
          "text": [
            "\n",
            " Tell me something and I'll repeat it back to you\n",
            " Enter 'quit'to end the program: hello there\n",
            " hello there\n",
            "\n",
            " Tell me something and I'll repeat it back to you\n",
            " Enter 'quit'to end the program: quit\n"
          ],
          "name": "stdout"
        }
      ]
    },
    {
      "cell_type": "code",
      "metadata": {
        "colab": {
          "base_uri": "https://localhost:8080/"
        },
        "id": "cKj_GUTT86f0",
        "outputId": "138c3c33-56cc-4e2e-b7e7-74028e963ceb"
      },
      "source": [
        "banned_users = ['eve','fred','gary','helen']\n",
        "players = []\n",
        "while True:\n",
        "  player = input(\"Enter Player name: \")\n",
        "  if player == \"quit\":\n",
        "    break\n",
        "  elif player in banned_users:\n",
        "    print(player+\" is banned\")\n",
        "  else:\n",
        "    players.append(player)\n",
        "print(\"\\nYour Team :\")\n",
        "for player in players:\n",
        "  print(player)"
      ],
      "execution_count": null,
      "outputs": [
        {
          "output_type": "stream",
          "text": [
            "Enter Player name: fred\n",
            "fred is banned\n",
            "Enter Player name: Hancy Kumar Shah\n",
            "Enter Player name: Vivek Kumar Shah\n",
            "Enter Player name: quit\n",
            "\n",
            "Your Team :\n",
            "Hancy Kumar Shah\n",
            "Vivek Kumar Shah\n"
          ],
          "name": "stdout"
        }
      ]
    },
    {
      "cell_type": "code",
      "metadata": {
        "id": "TzWAWxBM-1QN",
        "colab": {
          "base_uri": "https://localhost:8080/"
        },
        "outputId": "af79eda9-0033-4d47-8f87-c4971eb4a477"
      },
      "source": [
        "pets = ['dog','cat','dog','fish','cat','rabbit','cat']\n",
        "print(pets)\n",
        "while 'cat' in pets:\n",
        "  pets.remove('cat')\n",
        "print(pets)"
      ],
      "execution_count": null,
      "outputs": [
        {
          "output_type": "stream",
          "text": [
            "['dog', 'cat', 'dog', 'fish', 'cat', 'rabbit', 'cat']\n",
            "['dog', 'dog', 'fish', 'rabbit']\n"
          ],
          "name": "stdout"
        }
      ]
    },
    {
      "cell_type": "code",
      "metadata": {
        "colab": {
          "base_uri": "https://localhost:8080/"
        },
        "id": "mB34xc_9Kt7o",
        "outputId": "0a4fce55-f09b-4fef-a30e-a71264f9b345"
      },
      "source": [
        "def func(username):\n",
        "  for user in username:\n",
        "    print(\"Hello,\"+user)\n",
        "list = [\"hancy\",\"vivek\",\"vicky\"]\n",
        "func(list)"
      ],
      "execution_count": null,
      "outputs": [
        {
          "output_type": "stream",
          "text": [
            "Hello,hancy\n",
            "Hello,vivek\n",
            "Hello,vicky\n"
          ],
          "name": "stdout"
        }
      ]
    },
    {
      "cell_type": "code",
      "metadata": {
        "colab": {
          "base_uri": "https://localhost:8080/"
        },
        "id": "NxykJ6lCNgQ5",
        "outputId": "abb0ee32-c355-498b-82c6-fa924bd21ea7"
      },
      "source": [
        "pets"
      ],
      "execution_count": null,
      "outputs": [
        {
          "output_type": "execute_result",
          "data": {
            "text/plain": [
              "['dog', 'dog', 'fish', 'rabbit']"
            ]
          },
          "metadata": {
            "tags": []
          },
          "execution_count": 16
        }
      ]
    },
    {
      "cell_type": "code",
      "metadata": {
        "colab": {
          "base_uri": "https://localhost:8080/"
        },
        "id": "-sA2j-3KOGch",
        "outputId": "0a00fbea-7b36-44c9-e066-cba517431ab9"
      },
      "source": [
        "def my_function(food):\n",
        "  for x in food:\n",
        "    print(x)\n",
        "\n",
        "fruits = [\"apple\", \"banana\", \"cherry\"]\n",
        "\n",
        "my_function(fruits)"
      ],
      "execution_count": null,
      "outputs": [
        {
          "output_type": "stream",
          "text": [
            "apple\n",
            "banana\n",
            "cherry\n"
          ],
          "name": "stdout"
        }
      ]
    },
    {
      "cell_type": "code",
      "metadata": {
        "colab": {
          "base_uri": "https://localhost:8080/"
        },
        "id": "aRGTZfNYOMF4",
        "outputId": "5be0e6ff-b359-42bc-c2a9-66a8677c426a"
      },
      "source": [
        "def names(animal, name):\n",
        "  print(\"I have a \"+animal)\n",
        "  print(\"It's name is \"+name)\n",
        "names('cat', 'petty')"
      ],
      "execution_count": null,
      "outputs": [
        {
          "output_type": "stream",
          "text": [
            "I have a cat\n",
            "It's name is petty\n"
          ],
          "name": "stdout"
        }
      ]
    },
    {
      "cell_type": "code",
      "metadata": {
        "id": "FHKaO9ouP0IR",
        "colab": {
          "base_uri": "https://localhost:8080/"
        },
        "outputId": "ce24ddc3-daa2-4bb6-df2b-f70e5504cd11"
      },
      "source": [
        "def hancy(name, animal):\n",
        "  print(\"\\n I have a \"+animal)\n",
        "  print(\"\\n It's name is \"+name)\n",
        "hancy(animal='cat',name='pookie')\n",
        "hancy(name='mongo',animal='dog')"
      ],
      "execution_count": null,
      "outputs": [
        {
          "output_type": "stream",
          "text": [
            "\n",
            " I have a cat\n",
            "\n",
            " It's name is pookie\n",
            "\n",
            " I have a dog\n",
            "\n",
            " It's name is mongo\n"
          ],
          "name": "stdout"
        }
      ]
    },
    {
      "cell_type": "code",
      "metadata": {
        "colab": {
          "base_uri": "https://localhost:8080/"
        },
        "id": "UFhzqRsaMikb",
        "outputId": "d74d9a0f-493f-42c8-a747-eef5050ebc55"
      },
      "source": [
        "def func(first, last):\n",
        "  f_n = first+' '+last\n",
        "  return f_n.title()\n",
        "musician = func('Hancy', 'Shah')\n",
        "print(musician)"
      ],
      "execution_count": null,
      "outputs": [
        {
          "output_type": "stream",
          "text": [
            "Hancy Shah\n"
          ],
          "name": "stdout"
        }
      ]
    },
    {
      "cell_type": "code",
      "metadata": {
        "colab": {
          "base_uri": "https://localhost:8080/"
        },
        "id": "XaYQWN-ACS-C",
        "outputId": "87f94ba9-56f3-428e-cff4-0e364982d59a"
      },
      "source": [
        "def dunction(first, last):\n",
        "  person={'first':first,'last':last}\n",
        "  return person\n",
        "musician = dunction('Hancy','Shah')\n",
        "print(musician)"
      ],
      "execution_count": null,
      "outputs": [
        {
          "output_type": "stream",
          "text": [
            "{'first': 'Hancy', 'last': 'Shah'}\n"
          ],
          "name": "stdout"
        }
      ]
    },
    {
      "cell_type": "code",
      "metadata": {
        "colab": {
          "base_uri": "https://localhost:8080/"
        },
        "id": "SVYxeWYF0NdU",
        "outputId": "b57c8892-116f-46ba-9dc9-419e383dcfb1"
      },
      "source": [
        "def build_person(first, last):\n",
        "  person = {'first': first, 'last': last}\n",
        "  return person\n",
        "musician = build_person('jimi', 'hendrix')\n",
        "print(musician)"
      ],
      "execution_count": null,
      "outputs": [
        {
          "output_type": "stream",
          "text": [
            "{'first': 'jimi', 'last': 'hendrix'}\n"
          ],
          "name": "stdout"
        }
      ]
    },
    {
      "cell_type": "code",
      "metadata": {
        "colab": {
          "base_uri": "https://localhost:8080/"
        },
        "id": "NokQ0X350aNR",
        "outputId": "913e2edf-8466-4ef2-a5c1-579b4724fed3"
      },
      "source": [
        "def func(First, Last,Age=None):\n",
        "  person = {'First':First,'Last':Last}\n",
        "  if Age:\n",
        "    person['Age']=Age\n",
        "  return person\n",
        "m = func('Hancy','Shah',21)\n",
        "print(m)\n",
        "m = func('Vivek','Shah')\n",
        "print(m)"
      ],
      "execution_count": null,
      "outputs": [
        {
          "output_type": "stream",
          "text": [
            "{'First': 'Hancy', 'Last': 'Shah', 'Age': 21}\n",
            "{'First': 'Vivek', 'Last': 'Shah'}\n"
          ],
          "name": "stdout"
        }
      ]
    },
    {
      "cell_type": "code",
      "metadata": {
        "colab": {
          "base_uri": "https://localhost:8080/"
        },
        "id": "EUEhQyej1iho",
        "outputId": "9644aaea-6de6-4ec8-c531-1ef2428e14b8"
      },
      "source": [
        "def func(names):\n",
        "  for name in names:\n",
        "    msg = \"Hello \"+name\n",
        "    print(msg)\n",
        "list = ['hancy','Vivek','Vicky']\n",
        "func(list)"
      ],
      "execution_count": null,
      "outputs": [
        {
          "output_type": "stream",
          "text": [
            "Hello hancy\n",
            "Hello Vivek\n",
            "Hello Vicky\n"
          ],
          "name": "stdout"
        }
      ]
    },
    {
      "cell_type": "code",
      "metadata": {
        "colab": {
          "base_uri": "https://localhost:8080/"
        },
        "id": "1Di6TiPM_tgH",
        "outputId": "066fc152-ee45-4b3a-feed-e05b3b198a4b"
      },
      "source": [
        "def func(unprinted, printed):\n",
        "  while unprinted:\n",
        "    c_m = unprinted.pop()\n",
        "    print(\"Printing \"+c_m)\n",
        "    printed.append(c_m)\n",
        "unprinted = ['hancy','kumar','shah','vivek']\n",
        "printed = []\n",
        "func(unprinted[:], printed)\n",
        "print(\"\\n Unprinted: \", unprinted)\n",
        "print(\"\\n Printed :\", printed)"
      ],
      "execution_count": null,
      "outputs": [
        {
          "output_type": "stream",
          "text": [
            "Printing vivek\n",
            "Printing shah\n",
            "Printing kumar\n",
            "Printing hancy\n",
            "\n",
            " Unprinted:  ['hancy', 'kumar', 'shah', 'vivek']\n",
            "\n",
            " Printed : ['vivek', 'shah', 'kumar', 'hancy']\n"
          ],
          "name": "stdout"
        }
      ]
    },
    {
      "cell_type": "code",
      "metadata": {
        "colab": {
          "base_uri": "https://localhost:8080/"
        },
        "id": "WiuTmt1tGRs5",
        "outputId": "454ca057-ba20-41dd-d6b3-b0ccf06726f8"
      },
      "source": [
        "def func(Size, *toppings):\n",
        "  print(\"Making \"+Size+\" pizza\")\n",
        "  print(\"Toppings: \")\n",
        "  for topping in toppings:\n",
        "    print(\"- \"+topping)\n",
        "func('medium','capsicum','onion','cheese','paneer')"
      ],
      "execution_count": null,
      "outputs": [
        {
          "output_type": "stream",
          "text": [
            "Making medium pizza\n",
            "Toppings: \n",
            "- capsicum\n",
            "- onion\n",
            "- cheese\n",
            "- paneer\n"
          ],
          "name": "stdout"
        }
      ]
    },
    {
      "cell_type": "code",
      "metadata": {
        "colab": {
          "base_uri": "https://localhost:8080/"
        },
        "id": "sL4C7q8fCSoe",
        "outputId": "dea13601-59da-4271-efb9-0aac7e7e6e8a"
      },
      "source": [
        "def func(first, last, **u_i):\n",
        "  profile = {'first':first,'last':last}\n",
        "  for key,value in u_i.items():\n",
        "    profile[key]=value\n",
        "  return profile\n",
        "u_0 = func('hancy','shah',location='Ludhiana')\n",
        "u_1 = func('vivek','shah',location='Ludhiana',profile='MBBS')\n",
        "print(u_0)\n",
        "print(u_1)"
      ],
      "execution_count": null,
      "outputs": [
        {
          "output_type": "stream",
          "text": [
            "{'first': 'hancy', 'last': 'shah', 'location': 'Ludhiana'}\n",
            "{'first': 'vivek', 'last': 'shah', 'location': 'Ludhiana', 'profile': 'MBBS'}\n"
          ],
          "name": "stdout"
        }
      ]
    },
    {
      "cell_type": "code",
      "metadata": {
        "id": "W5A4nncKHWIr",
        "colab": {
          "base_uri": "https://localhost:8080/"
        },
        "outputId": "0bd31273-169e-44e1-fb40-933bd9f89a83"
      },
      "source": [
        "def func(first,last,**u_i):\n",
        "  profile = {'first: ':first,\"last: \":last}\n",
        "  for key,value in u_i.items():\n",
        "    profile[key]=value\n",
        "  return profile\n",
        "u_0 = func('hancy','shah',location='Ludhiana',hobbies=['playing cricket','music'])\n",
        "print(u_0)"
      ],
      "execution_count": 8,
      "outputs": [
        {
          "output_type": "stream",
          "text": [
            "{'first: ': 'hancy', 'last: ': 'shah', 'location': 'Ludhiana', 'hobbies': ['playing cricket', 'music']}\n"
          ],
          "name": "stdout"
        }
      ]
    },
    {
      "cell_type": "code",
      "metadata": {
        "id": "GlkentYPZJA3"
      },
      "source": [
        ""
      ],
      "execution_count": null,
      "outputs": []
    }
  ]
}