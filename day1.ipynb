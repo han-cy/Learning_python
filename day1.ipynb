{
  "nbformat": 4,
  "nbformat_minor": 0,
  "metadata": {
    "colab": {
      "name": "Untitled4.ipynb",
      "provenance": [],
      "collapsed_sections": [],
      "authorship_tag": "ABX9TyMUUAg3avabLlWb/5m/O6Kz",
      "include_colab_link": true
    },
    "kernelspec": {
      "name": "python3",
      "display_name": "Python 3"
    },
    "language_info": {
      "name": "python"
    }
  },
  "cells": [
    {
      "cell_type": "markdown",
      "metadata": {
        "id": "view-in-github",
        "colab_type": "text"
      },
      "source": [
        "<a href=\"https://colab.research.google.com/github/han-cy/Learning_python/blob/main/day1.ipynb\" target=\"_parent\"><img src=\"https://colab.research.google.com/assets/colab-badge.svg\" alt=\"Open In Colab\"/></a>"
      ]
    },
    {
      "cell_type": "code",
      "metadata": {
        "id": "ahjRuHuMWpqA"
      },
      "source": [
        "filename = '/content/hancy.txt'"
      ],
      "execution_count": null,
      "outputs": []
    },
    {
      "cell_type": "code",
      "metadata": {
        "id": "7jgfhUqCW142"
      },
      "source": [
        "with open(filename) as file:\n",
        "  lines = file.readlines()"
      ],
      "execution_count": null,
      "outputs": []
    },
    {
      "cell_type": "code",
      "metadata": {
        "colab": {
          "base_uri": "https://localhost:8080/"
        },
        "id": "myz29wy1XAod",
        "outputId": "f1f52a4d-09a3-4b1e-8495-31780b9051d6"
      },
      "source": [
        "for line in lines:\n",
        "  print(line)"
      ],
      "execution_count": null,
      "outputs": [
        {
          "output_type": "stream",
          "text": [
            "hey there, i am doing some python programming and \n",
            "\n",
            "i am trying to get everyback which i have forgot from my college life\n"
          ],
          "name": "stdout"
        }
      ]
    },
    {
      "cell_type": "code",
      "metadata": {
        "id": "ahnbXmFlXFDF"
      },
      "source": [
        "filename = '/content/hancy1.txt'"
      ],
      "execution_count": null,
      "outputs": []
    },
    {
      "cell_type": "code",
      "metadata": {
        "id": "9tRqJsEoYqLO"
      },
      "source": [
        "with open(filename,'w') as file:\n",
        "  file.write(\"I love to learn progamming\")"
      ],
      "execution_count": null,
      "outputs": []
    },
    {
      "cell_type": "code",
      "metadata": {
        "id": "ehSQTvM9Y3mM"
      },
      "source": [
        "filename = '/content/hancy1.txt'"
      ],
      "execution_count": 6,
      "outputs": []
    },
    {
      "cell_type": "code",
      "metadata": {
        "id": "PE4BwYIJZ1VW"
      },
      "source": [
        "with open(filename,'a') as file:\n",
        "  file.write(\"\\nAppend is used to add something to a pre-existing file.\")"
      ],
      "execution_count": 8,
      "outputs": []
    },
    {
      "cell_type": "code",
      "metadata": {
        "colab": {
          "base_uri": "https://localhost:8080/"
        },
        "id": "hdDeCMLMaAy0",
        "outputId": "575f1b01-b143-4c98-85fd-1c33ca23526b"
      },
      "source": [
        "prompt = \"How many tickets do you need?\"\n",
        "num_tickets = input(prompt)\n",
        "try:\n",
        "  num_tickets = int(num_tickets)\n",
        "except ValueError:\n",
        "  print(\"Please try again\")\n",
        "else:\n",
        "  print(\"Tickets are printing.\")"
      ],
      "execution_count": 11,
      "outputs": [
        {
          "output_type": "stream",
          "text": [
            "How many tickets do you need?right\n",
            "Please try again\n"
          ],
          "name": "stdout"
        }
      ]
    },
    {
      "cell_type": "code",
      "metadata": {
        "id": "vtse7VK8cVoD"
      },
      "source": [
        ""
      ],
      "execution_count": null,
      "outputs": []
    }
  ]
}